{
 "cells": [
  {
   "cell_type": "markdown",
   "metadata": {},
   "source": [
    "IAMSI -- 2021-2022\n",
    "--------\n",
    "\n",
    "\n",
    "# TME 09 : Règles d'association"
   ]
  },
  {
   "cell_type": "markdown",
   "metadata": {},
   "source": [
    "<font color=\"RED\" size=\"+1\">**[Q]**</font> **Indiquer dans la boîte ci-dessous vos noms et prénoms**"
   ]
  },
  {
   "cell_type": "markdown",
   "metadata": {},
   "source": [
    "- KRISNI Almehdi (3800519)\n",
    "- ARICHANDRA Santhos (3802651)"
   ]
  },
  {
   "cell_type": "markdown",
   "metadata": {},
   "source": [
    "## Présentation"
   ]
  },
  {
   "cell_type": "markdown",
   "metadata": {},
   "source": [
    "### But de ce TME\n",
    "\n",
    "Ce TME a pour but de réaliser une implémentation *intuitive* de l'algorithme **apriori** afin de la comparer à une version efficace de cet algorithme, puis à une implémentation de l'algorithme **fp-growth**.\n"
   ]
  },
  {
   "cell_type": "markdown",
   "metadata": {},
   "source": [
    "#### Contenu de l'archive téléchargée\n",
    "\n",
    "Une fois détarée, l'archive **tme-09.tgz** crée le répertoire <code>tme09</code> contenant :\n",
    "- ce notebook que vous lisez en ce moment et que vous allez compléter.\n",
    "- un répertoire <code>dataset</code> contenant des bases d'exemples pour tester les algorithmes\n",
    "- deux fichiers exécutables (Linux): <code>apriori32</code> et <code>fpgrowth32</code> (ces 2 programmes ont été développés par Christian Borgelt, plus d'infos sur sa page web  http://www.borgelt.net/software.html). Ces programmes seront utilisés en fin de séance. Si vous n'êtes pas sous Linux, vous pouvez trouver une version pour votre OS ici:\n",
    "    - <code>apriori</code> : https://borgelt.net/apriori.html\n",
    "    - <code>fpgrowth</code> : https://borgelt.net/fpgrowth.html\n",
    "\n"
   ]
  },
  {
   "cell_type": "markdown",
   "metadata": {},
   "source": [
    "#### Compte-rendu de la séance\n",
    "\n",
    "Le compte-rendu de ce TME se compose de ce notebook complété par les réponses aux questions posées.\n",
    "\n",
    "Ce compte-rendu est à poster : \n",
    "- à l'issue de la séance, un premier envoi doit être **obligatoirement** fait avec ce que vous avez réalisé\n",
    "- si nécessaire, un complément peut être envoyé **au plus tard avant le début de la prochaine séance**.\n"
   ]
  },
  {
   "cell_type": "markdown",
   "metadata": {},
   "source": [
    "<font color=\"RED\">IMPORTANT: soumission de votre fichier final</font>\n",
    "\n",
    "**Nom à donner au fichier à poster** : *Nom1_Nom2.ipynb* \n",
    "- *Nom1* et *Nom2* : noms des membres du binôme\n",
    "- ne pas compresser ou faire une archive: envoyer le notebook tel quel, éventuellement, si vous avez d'autres fichiers à envoyer, les  joindre au message."
   ]
  },
  {
   "cell_type": "code",
   "execution_count": 6,
   "metadata": {},
   "outputs": [
    {
     "data": {
      "text/plain": [
       "['d:\\\\Almehdi\\\\Documents\\\\UPMC\\\\M1_DAC\\\\S2\\\\IAMSI\\\\TME\\\\TME9',\n",
       " 'C:\\\\Users\\\\Almehdi\\\\AppData\\\\Local\\\\Programs\\\\Python\\\\Python39\\\\python39.zip',\n",
       " 'C:\\\\Users\\\\Almehdi\\\\AppData\\\\Local\\\\Programs\\\\Python\\\\Python39\\\\DLLs',\n",
       " 'C:\\\\Users\\\\Almehdi\\\\AppData\\\\Local\\\\Programs\\\\Python\\\\Python39\\\\lib',\n",
       " 'C:\\\\Users\\\\Almehdi\\\\AppData\\\\Local\\\\Programs\\\\Python\\\\Python39',\n",
       " '',\n",
       " 'C:\\\\Users\\\\Almehdi\\\\AppData\\\\Roaming\\\\Python\\\\Python39\\\\site-packages',\n",
       " 'd:\\\\almehdi\\\\documents\\\\upmc\\\\m1_dac\\\\s2\\\\footballgame-ml\\\\gameengine',\n",
       " 'C:\\\\Users\\\\Almehdi\\\\AppData\\\\Local\\\\Programs\\\\Python\\\\Python39\\\\lib\\\\site-packages',\n",
       " 'C:\\\\Users\\\\Almehdi\\\\AppData\\\\Local\\\\Programs\\\\Python\\\\Python39\\\\lib\\\\site-packages\\\\win32',\n",
       " 'C:\\\\Users\\\\Almehdi\\\\AppData\\\\Local\\\\Programs\\\\Python\\\\Python39\\\\lib\\\\site-packages\\\\win32\\\\lib',\n",
       " 'C:\\\\Users\\\\Almehdi\\\\AppData\\\\Local\\\\Programs\\\\Python\\\\Python39\\\\lib\\\\site-packages\\\\Pythonwin',\n",
       " 'C:\\\\Users\\\\Almehdi\\\\AppData\\\\Local\\\\Programs\\\\Python\\\\Python39\\\\lib\\\\site-packages\\\\IPython\\\\extensions',\n",
       " 'C:\\\\Users\\\\Almehdi\\\\.ipython']"
      ]
     },
     "execution_count": 6,
     "metadata": {},
     "output_type": "execute_result"
    }
   ],
   "source": [
    "# Vérification de la version de Python utilisée:\n",
    "import sys\n",
    "sys.path # le path doit contenir python3.5 ou une version supérieure"
   ]
  },
  {
   "cell_type": "markdown",
   "metadata": {},
   "source": [
    "## Traitement d'une base d'apprentissage\n",
    "\n",
    "\n",
    "### Chargement de la base\n",
    "\n",
    "On commence par travailler sur la base exemple du fichier <code>exemple-1.txt</code> (fourni dans le répertoire datasets). \n",
    "\n",
    "Ce fichier contient une transaction par ligne. Chaque transaction est composée d'un groupe d'items séparés par un espace.\n",
    "\n",
    "On peut charger en Python ce fichier par la commande suivante (le répertoire datasets doit se trouver dans le répertoire courant) :"
   ]
  },
  {
   "cell_type": "code",
   "execution_count": 7,
   "metadata": {
    "scrolled": true
   },
   "outputs": [
    {
     "name": "stdout",
     "output_type": "stream",
     "text": [
      "ligne 1 : ['a', 'b', 'c']\n",
      "ligne 2 : ['a', 'd', 'e']\n",
      "ligne 3 : ['b', 'c', 'd']\n",
      "ligne 4 : ['a', 'b', 'c', 'd']\n",
      "ligne 5 : ['b', 'c']\n",
      "ligne 6 : ['a', 'b', 'd']\n",
      "ligne 7 : ['d', 'e']\n",
      "ligne 8 : ['a', 'b', 'c', 'd']\n",
      "ligne 9 : ['c', 'd', 'e']\n",
      "ligne 10 : ['a', 'b', 'c']\n"
     ]
    }
   ],
   "source": [
    "import csv\n",
    "with open('datasets/exemple-1.txt', 'r') as fichier:\n",
    "    lecteur = csv.reader(fichier, delimiter=' ')\n",
    "    i = 0\n",
    "    for ligne in lecteur:\n",
    "        i += 1\n",
    "        print('ligne',i,':',ligne)"
   ]
  },
  {
   "cell_type": "markdown",
   "metadata": {},
   "source": [
    "<font color=\"RED\" size=\"+1\">**[Q]**</font>  Ecrire la fonction <code>chargeBase</code> qui prend en argument un nom de fichier, respectant le format énoncé plus haut, le lit et rend un dictionnaire dont les clés sont les numéros de ligne (une transaction) et les valeurs associées les itemsets correspondants représentés sous forme d'ensembles Python (des <code>set()</code> donc).\n",
    "\n",
    "Ici, il est plus intéressant de représenter un itemset comme un ensemble Python plutôt que comme une liste. Il est ainsi plus facile de réaliser des comparaisons d'ensembles ou des ajouts d'éléments.\n",
    "\n",
    "Dans le reste de ce document, on appelle **BASE** un dictionnaire de ce type."
   ]
  },
  {
   "cell_type": "code",
   "execution_count": 8,
   "metadata": {},
   "outputs": [],
   "source": [
    "def chargeBase(filename, delimiteur=' ') :\n",
    "    # Création du dictionnaire\n",
    "    d = dict()\n",
    "\n",
    "    # On ouvre le fichier et on met à jour le dictionnaire\n",
    "    with open(filename, 'r') as fichier:\n",
    "        lecteur = csv.reader(fichier, delimiter=delimiteur)\n",
    "        i = 0\n",
    "        for ligne in lecteur:\n",
    "            i += 1\n",
    "            d[i] = set(ligne)\n",
    "\n",
    "    # On retourne le dictionnaire\n",
    "    return d"
   ]
  },
  {
   "cell_type": "code",
   "execution_count": 9,
   "metadata": {},
   "outputs": [
    {
     "name": "stdout",
     "output_type": "stream",
     "text": [
      "Résultat du chargement de 'exemple-1.txt', on obtient : \n"
     ]
    },
    {
     "data": {
      "text/plain": [
       "{1: {'a', 'b', 'c'},\n",
       " 2: {'a', 'd', 'e'},\n",
       " 3: {'b', 'c', 'd'},\n",
       " 4: {'a', 'b', 'c', 'd'},\n",
       " 5: {'b', 'c'},\n",
       " 6: {'a', 'b', 'd'},\n",
       " 7: {'d', 'e'},\n",
       " 8: {'a', 'b', 'c', 'd'},\n",
       " 9: {'c', 'd', 'e'},\n",
       " 10: {'a', 'b', 'c'}}"
      ]
     },
     "execution_count": 9,
     "metadata": {},
     "output_type": "execute_result"
    }
   ],
   "source": [
    "print(\"Résultat du chargement de 'exemple-1.txt', on obtient : \")\n",
    "Base1 = chargeBase('datasets/exemple-1.txt')\n",
    "Base1"
   ]
  },
  {
   "cell_type": "markdown",
   "metadata": {},
   "source": [
    "On utilise la variable **Base1** dans la suite pour faire référence à cette base."
   ]
  },
  {
   "cell_type": "markdown",
   "metadata": {},
   "source": [
    "## Itemsets et support"
   ]
  },
  {
   "cell_type": "markdown",
   "metadata": {},
   "source": [
    "<font color=\"RED\" size=\"+1\">**[Q]**</font>  Ecrire la fonction <code>noms_items</code> qui prend en argument une BASE et rend l'ensemble des items qui composent cette base."
   ]
  },
  {
   "cell_type": "code",
   "execution_count": 10,
   "metadata": {},
   "outputs": [],
   "source": [
    "def noms_items(base) :\n",
    "    # On crée un ensemble\n",
    "    s = set()\n",
    "\n",
    "    # On itère sur la base et on met à jour l'ensemble\n",
    "    for i in base.items() :\n",
    "        s = s.union(i[1])\n",
    "\n",
    "    # On retourne l'ensemble\n",
    "    return s"
   ]
  },
  {
   "cell_type": "code",
   "execution_count": 11,
   "metadata": {},
   "outputs": [
    {
     "name": "stdout",
     "output_type": "stream",
     "text": [
      "Pour la BASE précédente :\n"
     ]
    },
    {
     "data": {
      "text/plain": [
       "{'a', 'b', 'c', 'd', 'e'}"
      ]
     },
     "execution_count": 11,
     "metadata": {},
     "output_type": "execute_result"
    }
   ],
   "source": [
    "print(\"Pour la BASE précédente :\")\n",
    "noms_items(Base1)"
   ]
  },
  {
   "cell_type": "markdown",
   "metadata": {},
   "source": [
    "<font color=\"RED\" size=\"+1\">**[Q]**</font>  Ecrire la fonction <code>singletons</code> qui prend en argument une BASE et rend la liste des itemsets de taille 1 obtenus à partir de cette base.\n",
    "\n",
    "*Remarque*: attention, ici on utilise une **liste** pour stocker les itemsets (un itemset est un ensemble Python) car il n'est pas possible en Python de créer des ensembles d'ensembles.\n"
   ]
  },
  {
   "cell_type": "code",
   "execution_count": 12,
   "metadata": {},
   "outputs": [],
   "source": [
    "def singletons(base) :\n",
    "    # On crée une liste pour sauvegarder les singletons (itemsets de taille 1)\n",
    "    l = []\n",
    "\n",
    "    # On cherche les singletons\n",
    "    for i in noms_items(base) :\n",
    "        j = set([i])\n",
    "        l.append(j)\n",
    "\n",
    "    # On retourne la liste\n",
    "    return l"
   ]
  },
  {
   "cell_type": "code",
   "execution_count": 13,
   "metadata": {},
   "outputs": [
    {
     "name": "stdout",
     "output_type": "stream",
     "text": [
      "Exemple: singletons(Base1) rend :\n"
     ]
    },
    {
     "data": {
      "text/plain": [
       "[{'b'}, {'d'}, {'c'}, {'e'}, {'a'}]"
      ]
     },
     "execution_count": 13,
     "metadata": {},
     "output_type": "execute_result"
    }
   ],
   "source": [
    "print(\"Exemple: singletons(Base1) rend :\")\n",
    "singletons(Base1)"
   ]
  },
  {
   "cell_type": "markdown",
   "metadata": {},
   "source": [
    "<font color=\"RED\" size=\"+1\">**[Q]**</font>  Ecrire la fonction <code>comptage</code> qui, pour une BASE et un itemset donnés, rend le nombre de transactions de BASE qui contiennent cet itemset."
   ]
  },
  {
   "cell_type": "code",
   "execution_count": 14,
   "metadata": {},
   "outputs": [],
   "source": [
    "def comptage(base, itemset) :\n",
    "    # On crée un compteur\n",
    "    c = 0\n",
    "\n",
    "    # On compte le nombre de transactions qui contiennent l'itemset\n",
    "    for i in base.items() :\n",
    "        if (itemset.issubset(i[1])) :\n",
    "            c += 1\n",
    "\n",
    "    # On retourne le compteur\n",
    "    return c"
   ]
  },
  {
   "cell_type": "code",
   "execution_count": 15,
   "metadata": {},
   "outputs": [
    {
     "name": "stdout",
     "output_type": "stream",
     "text": [
      "Comptage de l'itemset {'a','b','c'} dans la base précédente : \n",
      "comptage(Base1,{'a','b','c'}) rend la valeur 4\n"
     ]
    }
   ],
   "source": [
    "print(\"Comptage de l'itemset {'a','b','c'} dans la base précédente : \")\n",
    "print(\"comptage(Base1,{'a','b','c'}) rend la valeur \"+str(comptage(Base1,{'a','b','c'})))"
   ]
  },
  {
   "cell_type": "markdown",
   "metadata": {},
   "source": [
    "<font color=\"RED\" size=\"+1\">**[Q]**</font>  Ecrire la fonction <code>support</code> qui, pour une BASE et un itemset donnés, rend le support de cet itemset dans la BASE."
   ]
  },
  {
   "cell_type": "code",
   "execution_count": 16,
   "metadata": {},
   "outputs": [],
   "source": [
    "def support(base, itemset) :\n",
    "    # On retourne la valeur du support (nombr / nombre d'items dans la base)\n",
    "    return comptage(base, itemset) / len(base)"
   ]
  },
  {
   "cell_type": "code",
   "execution_count": 17,
   "metadata": {},
   "outputs": [
    {
     "name": "stdout",
     "output_type": "stream",
     "text": [
      "Support de l'itemset {'a','b','c'} dans la base précédente : 0.4\n"
     ]
    }
   ],
   "source": [
    "print(\"Support de l'itemset {'a','b','c'} dans la base précédente : \" \\\n",
    "      +str(support(Base1,{'a','b','c'})))"
   ]
  },
  {
   "cell_type": "markdown",
   "metadata": {},
   "source": [
    "## Implémentation de l'algorithme a-priori\n",
    "\n",
    "Dans cette partie, une implémentation de la partie de construction des itemsets fréquents de l'algorithme a-priori est réalisée. On ne s'intéresse pas dans cette question à la génération des règles d'association (mais cela peut être fait en complément).\n",
    "\n",
    "Votre programme doit pouvoir s'appliquer aux bases fournies dans le répertoire *datasets* (éventuellement, sur au moins les 10 premiers exemples de la base mushrooms)."
   ]
  },
  {
   "cell_type": "markdown",
   "metadata": {},
   "source": [
    "<font color=\"RED\" size=\"+1\">**[Q]**</font>  Ecrire la fonction <code>apriori_gen</code> qui prend en argument une liste d'itemsets de même longueur $k$, applique l'algorithme apriori-gen pour rendre la liste des itemsets candidats de longueurs $k+1$.\n"
   ]
  },
  {
   "cell_type": "code",
   "execution_count": 18,
   "metadata": {},
   "outputs": [],
   "source": [
    "def apriori_gen(itemlist) :\n",
    "    # On crée la liste des itemsets candidats de longueur (k + 1)\n",
    "    l = []\n",
    "\n",
    "    # On itère sur la liste\n",
    "    for i in range(len(itemlist)) :\n",
    "        for j in itemlist[i:] :\n",
    "            if itemlist[i] != j :\n",
    "                tmp = itemlist[i].union(j)\n",
    "                if (len(tmp) == len(j) + 1) and (tmp not in l) :\n",
    "                    l.append(tmp)\n",
    "\n",
    "    # On effectue une vérification sur les ensembles trouvés\n",
    "    fl = l.copy() # Liste finale allant être retournée\n",
    "    for cset in l :\n",
    "        for j in cset :\n",
    "            tmp = cset.copy()\n",
    "            tmp.remove(j)\n",
    "            if (tmp not in itemlist) and (cset in fl) :\n",
    "                fl.pop(fl.index(cset))\n",
    "\n",
    "    # On retourne la liste\n",
    "    return fl"
   ]
  },
  {
   "cell_type": "code",
   "execution_count": 19,
   "metadata": {},
   "outputs": [
    {
     "name": "stdout",
     "output_type": "stream",
     "text": [
      "Exemple: apriori_gen([{'a'}, {'b'}, {'c'}, {'d'}]) rend \n",
      "[{'b', 'a'}, {'a', 'c'}, {'d', 'a'}, {'b', 'c'}, {'b', 'd'}, {'d', 'c'}]\n",
      "\n",
      "Exemple: apriori_gen([{'a','b'},{'a','d'},{'b','d'},{'b','c'},{'c','d'}]) rend \n",
      "[{'b', 'd', 'a'}, {'b', 'd', 'c'}]\n",
      "\n",
      "Exemple: apriori_gen([{'a','b','d'}, {'b','c','d'}]) rend \n",
      "[]\n"
     ]
    }
   ],
   "source": [
    "print(\"Exemple: apriori_gen([{'a'}, {'b'}, {'c'}, {'d'}]) rend \")\n",
    "print(apriori_gen([{'a'}, {'b'}, {'c'}, {'d'}]))\n",
    "\n",
    "print(\"\\nExemple: apriori_gen([{'a','b'},{'a','d'},{'b','d'},{'b','c'},{'c','d'}]) rend \")\n",
    "print(apriori_gen([{'a', 'b'}, {'a', 'd'}, {'b', 'd'}, {'b', 'c'}, {'c', 'd'}]))\n",
    "\n",
    "print(\"\\nExemple: apriori_gen([{'a','b','d'}, {'b','c','d'}]) rend \")\n",
    "print(apriori_gen([{'a','b','d'}, {'b','c','d'}]))"
   ]
  },
  {
   "cell_type": "markdown",
   "metadata": {},
   "source": [
    "<font color=\"RED\" size=\"+1\">**[Q]**</font>  Ecrire la fonction <code>apriori</code> qui prend en argument une BASE et une valeur réelle comprise entre 0 et 1, et qui rend une liste de tuples dont le premier élément et un itemset trouvé et le deuxième élément est la valeur de support correspondante."
   ]
  },
  {
   "cell_type": "code",
   "execution_count": 20,
   "metadata": {},
   "outputs": [],
   "source": [
    "def apriori(base, minsup) :\n",
    "    # On récupère la liste originale des itemsets à étudier (donc les singletons)\n",
    "    l = singletons(base)\n",
    "    size = len(base)\n",
    "\n",
    "    # Liste résultat allant contenir les tuples\n",
    "    res = []\n",
    "\n",
    "    # On itère sur la liste et on met à jour\n",
    "    while l :\n",
    "        # Création de liste pour la sauvegarde des supports et des comptages\n",
    "        supportList = []\n",
    "        comptList = []\n",
    "\n",
    "        # On sauvegarde les comptages dans l'ordre des itemset\n",
    "        for itemset in l :\n",
    "            comptList.append(comptage(base, itemset))\n",
    "\n",
    "        # On met à jour les supports\n",
    "        tmpItemset = [] # Liste allant servir à générer les nouveaux itemsets à étudier\n",
    "\n",
    "        # On itère sur le dictionnaire\n",
    "        for i in range(len(l)) :\n",
    "            if (comptList[i] / size) >= minsup :\n",
    "                tmpItemset.append(l[i])\n",
    "                supportList.append(comptList[i] / size)\n",
    "\n",
    "        # On met à jour l\n",
    "        l = apriori_gen(tmpItemset)\n",
    "\n",
    "        # On sauvegarde les résultats\n",
    "        for i in range(len(tmpItemset)) :\n",
    "            res.append((tmpItemset[i], supportList[i]))\n",
    "\n",
    "    # On retourne le résultat\n",
    "    return res"
   ]
  },
  {
   "cell_type": "code",
   "execution_count": 21,
   "metadata": {},
   "outputs": [
    {
     "name": "stdout",
     "output_type": "stream",
     "text": [
      "Exemple: apriori(Base1, 0.3]) rend \n",
      "[({'b'}, 0.7), ({'d'}, 0.7), ({'c'}, 0.7), ({'e'}, 0.3), ({'a'}, 0.6), ({'b', 'd'}, 0.4), ({'b', 'c'}, 0.6), ({'b', 'a'}, 0.5), ({'d', 'c'}, 0.4), ({'e', 'd'}, 0.3), ({'d', 'a'}, 0.4), ({'a', 'c'}, 0.4), ({'b', 'd', 'c'}, 0.3), ({'b', 'd', 'a'}, 0.3), ({'b', 'a', 'c'}, 0.4)]\n"
     ]
    }
   ],
   "source": [
    "print(\"Exemple: apriori(Base1, 0.3]) rend \")\n",
    "print(apriori(Base1,0.3))"
   ]
  },
  {
   "cell_type": "markdown",
   "metadata": {},
   "source": [
    "## Expérimentations"
   ]
  },
  {
   "cell_type": "markdown",
   "metadata": {},
   "source": [
    "### Vérification avec la base du TD\n",
    "\n",
    "Utiliser la fonction <code>apriori</code> avec la base de transactions du TD afin de vérifier que les itemsets obtenus sont corrects."
   ]
  },
  {
   "cell_type": "code",
   "execution_count": 22,
   "metadata": {},
   "outputs": [],
   "source": [
    "# On reproduit la base étudiée pendant le TD\n",
    "BaseTD = {\n",
    "    1 : {'A', 'B', 'D', 'E'},\n",
    "    2 : {'B', 'C', 'D'},\n",
    "    3 : {'A', 'B', 'D', 'E'},\n",
    "    4 : {'A', 'C', 'D', 'E'},\n",
    "    5 : {'B', 'C', 'D', 'E'},\n",
    "    6 : {'B', 'D', 'E'},\n",
    "    7 : {'C', 'D'},\n",
    "    8 : {'A', 'B', 'C'},\n",
    "    9 : {'A', 'D', 'E'},\n",
    "    10 : {'B', 'D'}\n",
    "}"
   ]
  },
  {
   "cell_type": "code",
   "execution_count": 23,
   "metadata": {},
   "outputs": [
    {
     "name": "stdout",
     "output_type": "stream",
     "text": [
      "Exemple: apriori(BaseTD, 0.3) rend \n",
      "[({'B'}, 0.7), ({'E'}, 0.6), ({'A'}, 0.5), ({'D'}, 0.9), ({'C'}, 0.5), ({'B', 'E'}, 0.4), ({'B', 'A'}, 0.3), ({'B', 'D'}, 0.6), ({'B', 'C'}, 0.3), ({'E', 'A'}, 0.4), ({'E', 'D'}, 0.6), ({'A', 'D'}, 0.4), ({'C', 'D'}, 0.4), ({'B', 'E', 'D'}, 0.4), ({'E', 'A', 'D'}, 0.4)]\n"
     ]
    }
   ],
   "source": [
    "print(\"Exemple: apriori(BaseTD, 0.3) rend \")\n",
    "print(apriori(BaseTD,0.3))"
   ]
  },
  {
   "cell_type": "markdown",
   "metadata": {},
   "source": [
    "### Comparaisons avec les implémentations apriori et fpgrowth"
   ]
  },
  {
   "cell_type": "markdown",
   "metadata": {},
   "source": [
    "<font color=\"RED\" size=\"+1\">**[Q]**</font>  Tester votre fonction <code>apriori</code> sur les 3 bases données dans datasets et confronter les résultats obtenus avec ceux fournis par l'exécutable <code>apriori</code>."
   ]
  },
  {
   "cell_type": "code",
   "execution_count": 24,
   "metadata": {},
   "outputs": [
    {
     "name": "stdout",
     "output_type": "stream",
     "text": [
      "Résultat du chargement de 'mushrooms.txt', on obtient : \n",
      "8416  transactions.\n"
     ]
    }
   ],
   "source": [
    "print(\"Résultat du chargement de 'mushrooms.txt', on obtient : \")\n",
    "Base_mushrooms = chargeBase('datasets/mushrooms.txt',delimiteur=',')\n",
    "#Base_mushrooms\n",
    "print(len(Base_mushrooms),' transactions.')"
   ]
  },
  {
   "cell_type": "code",
   "execution_count": 25,
   "metadata": {
    "scrolled": false
   },
   "outputs": [
    {
     "name": "stdout",
     "output_type": "stream",
     "text": [
      "Pour la BASE précédente :\n",
      "Exemple: singletons(Base_mushrooms) rend :\n"
     ]
    },
    {
     "data": {
      "text/plain": [
       "[{'KNOBBED'},\n",
       " {'CLOSE'},\n",
       " {'SUNKEN'},\n",
       " {'EVANESCENT'},\n",
       " {'FREE'},\n",
       " {'FIBROUS'},\n",
       " {'FOUL'},\n",
       " {'ENLARGING'},\n",
       " {'WASTE'},\n",
       " {'CONVEX'},\n",
       " {'ANISE'},\n",
       " {'FISHY'},\n",
       " {'CHOCOLATE'},\n",
       " {'BELL'},\n",
       " {'NO'},\n",
       " {'LEAVES'},\n",
       " {'FLARING'},\n",
       " {'SILKY'},\n",
       " {'CLUB'},\n",
       " {'SCALY'},\n",
       " {'GROOVES'},\n",
       " {'GRASSES'},\n",
       " {'ALMOND'},\n",
       " {'ABUNDANT'},\n",
       " {'CREOSOTE'},\n",
       " {'CINNAMON'},\n",
       " {'LARGE'},\n",
       " {'ORANGE'},\n",
       " {'CONICAL'},\n",
       " {'MEADOWS'},\n",
       " {'PUNGENT'},\n",
       " {'PARTIAL'},\n",
       " {'?'},\n",
       " {'WOODS'},\n",
       " {'NARROW'},\n",
       " {'GRAY'},\n",
       " {'PATHS'},\n",
       " {'ONE'},\n",
       " {'EQUAL'},\n",
       " {'BUFF'},\n",
       " {'SPICY'},\n",
       " {'WHITE'},\n",
       " {'MUSTY'},\n",
       " {'BRUISES'},\n",
       " {'PURPLE'},\n",
       " {'ATTACHED'},\n",
       " {'POISONOUS'},\n",
       " {'NUMEROUS'},\n",
       " {'SEVERAL'},\n",
       " {'TWO'},\n",
       " {'BROWN'},\n",
       " {'PENDANT'},\n",
       " {'BROAD'},\n",
       " {'ROOTED'},\n",
       " {'BLACK'},\n",
       " {'EDIBLE'},\n",
       " {'PINK'},\n",
       " {'SOLITARY'},\n",
       " {'GREEN'},\n",
       " {'FLAT'},\n",
       " {'CLUSTERED'},\n",
       " {'TAPERING'},\n",
       " {'RED'},\n",
       " {'BULBOUS'},\n",
       " {'URBAN'},\n",
       " {'NONE'},\n",
       " {'SMOOTH'},\n",
       " {'CROWDED'},\n",
       " {'SCATTERED'},\n",
       " {'YELLOW'}]"
      ]
     },
     "execution_count": 25,
     "metadata": {},
     "output_type": "execute_result"
    }
   ],
   "source": [
    "print(\"Pour la BASE précédente :\")\n",
    "noms_items(Base_mushrooms)\n",
    "print(\"Exemple: singletons(Base_mushrooms) rend :\")\n",
    "singletons(Base_mushrooms)"
   ]
  },
  {
   "cell_type": "code",
   "execution_count": 26,
   "metadata": {},
   "outputs": [
    {
     "name": "stdout",
     "output_type": "stream",
     "text": [
      "[({'FREE'}, 0.9743346007604563), ({'PARTIAL'}, 1.0), ({'ONE'}, 0.9230038022813688), ({'WHITE'}, 0.9771863117870723), ({'PARTIAL', 'FREE'}, 0.9743346007604563), ({'ONE', 'FREE'}, 0.9001901140684411), ({'WHITE', 'FREE'}, 0.9743346007604563), ({'PARTIAL', 'ONE'}, 0.9230038022813688), ({'WHITE', 'PARTIAL'}, 0.9771863117870723), ({'WHITE', 'ONE'}, 0.9001901140684411), ({'PARTIAL', 'ONE', 'FREE'}, 0.9001901140684411), ({'WHITE', 'PARTIAL', 'FREE'}, 0.9743346007604563), ({'WHITE', 'ONE', 'FREE'}, 0.9001901140684411), ({'WHITE', 'PARTIAL', 'ONE'}, 0.9001901140684411), ({'WHITE', 'ONE', 'PARTIAL', 'FREE'}, 0.9001901140684411)]\n"
     ]
    }
   ],
   "source": [
    "print(apriori(Base_mushrooms,0.9))"
   ]
  },
  {
   "cell_type": "code",
   "execution_count": 27,
   "metadata": {},
   "outputs": [
    {
     "data": {
      "text/plain": [
       "[({'ONE'}, 0.9230038022813688),\n",
       " ({'FREE'}, 0.9743346007604563),\n",
       " ({'WHITE'}, 0.9771863117870723),\n",
       " ({'PARTIAL'}, 1.0),\n",
       " ({'FREE', 'ONE'}, 0.9001901140684411),\n",
       " ({'ONE', 'WHITE'}, 0.9001901140684411),\n",
       " ({'ONE', 'PARTIAL'}, 0.9230038022813688),\n",
       " ({'FREE', 'WHITE'}, 0.9743346007604563),\n",
       " ({'FREE', 'PARTIAL'}, 0.9743346007604563),\n",
       " ({'PARTIAL', 'WHITE'}, 0.9771863117870723),\n",
       " ({'FREE', 'ONE', 'WHITE'}, 0.9001901140684411),\n",
       " ({'FREE', 'ONE', 'PARTIAL'}, 0.9001901140684411),\n",
       " ({'ONE', 'PARTIAL', 'WHITE'}, 0.9001901140684411),\n",
       " ({'FREE', 'PARTIAL', 'WHITE'}, 0.9743346007604563),\n",
       " ({'FREE', 'ONE', 'PARTIAL', 'WHITE'}, 0.9001901140684411)]"
      ]
     },
     "execution_count": 27,
     "metadata": {},
     "output_type": "execute_result"
    }
   ],
   "source": [
    "# On effectue un meilleur affichage en copiant le résultat\n",
    "[({'ONE'}, 0.9230038022813688), ({'FREE'}, 0.9743346007604563), ({'WHITE'}, 0.9771863117870723), ({'PARTIAL'}, 1.0), ({'ONE', 'FREE'}, 0.9001901140684411), ({'ONE', 'WHITE'}, 0.9001901140684411), ({'ONE', 'PARTIAL'}, 0.9230038022813688), ({'WHITE', 'FREE'}, 0.9743346007604563), ({'PARTIAL', 'FREE'}, 0.9743346007604563), ({'WHITE', 'PARTIAL'}, 0.9771863117870723), ({'ONE', 'FREE', 'WHITE'}, 0.9001901140684411), ({'ONE', 'FREE', 'PARTIAL'}, 0.9001901140684411), ({'PARTIAL', 'ONE', 'WHITE'}, 0.9001901140684411), ({'WHITE', 'FREE', 'PARTIAL'}, 0.9743346007604563), ({'ONE', 'FREE', 'WHITE', 'PARTIAL'}, 0.9001901140684411)]"
   ]
  },
  {
   "cell_type": "code",
   "execution_count": 28,
   "metadata": {},
   "outputs": [
    {
     "name": "stdout",
     "output_type": "stream",
     "text": [
      "Résultat du chargement de 'titanic-red.csv', on obtient : \n",
      "741  transactions.\n"
     ]
    }
   ],
   "source": [
    "print(\"Résultat du chargement de 'titanic-red.csv', on obtient : \")\n",
    "Base_titanic = chargeBase('datasets/titanic-red.csv',delimiteur=',')\n",
    "print(len(Base_titanic),' transactions.')"
   ]
  },
  {
   "cell_type": "code",
   "execution_count": 29,
   "metadata": {},
   "outputs": [
    {
     "name": "stdout",
     "output_type": "stream",
     "text": [
      "Pour la BASE Titanic :\n",
      "Exemple: singletons(Base_titanic) rend :\n"
     ]
    },
    {
     "data": {
      "text/plain": [
       "[{'LondonMontrealPQ'},\n",
       " {'MerrillWI'},\n",
       " {'EnglandOglesbyIL'},\n",
       " {'NewYorkNYBriarcliffManorNY'},\n",
       " {'SpainHavanaCuba'},\n",
       " {'BaselSwitzerland'},\n",
       " {'CoCorkIrelandCharlestownMA'},\n",
       " {'CoClareIrelandWashingtonDC'},\n",
       " {'Greece'},\n",
       " {'IsleworthEngland'},\n",
       " {'CornwallHancockMI'},\n",
       " {'ColumbusOH'},\n",
       " {'EastOrangeNJ'},\n",
       " {'BerneSwitzerlandCentralCityIA'},\n",
       " {'FondduLacWI'},\n",
       " {'AughnacliffCoLongfordIrelandNewYorkNY'},\n",
       " {'CoLongfordIrelandNewYorkNY'},\n",
       " {'BromsgroveEnglandMontrealPQ'},\n",
       " {'male'},\n",
       " {'SouthamptonNewYorkNY'},\n",
       " {'AuburnNY'},\n",
       " {'ClevedonEngland'},\n",
       " {'ItalyPhiladelphiaPA'},\n",
       " {'Argentina'},\n",
       " {'LondonBrooklynNY'},\n",
       " {'StockholmSwedenNewYork'},\n",
       " {'IndiaRapidCitySD'},\n",
       " {'Portugal'},\n",
       " {'ToftaSwedenJolietIL'},\n",
       " {'EnglandSanFranciscoCA'},\n",
       " {'AustraliaFingalND'},\n",
       " {'WinnipegMN'},\n",
       " {'StockholmSwedenWashingtonDC'},\n",
       " {'NewYorkNYIthacaNY'},\n",
       " {'BrynMawrPA'},\n",
       " {'DorchesterMA'},\n",
       " {'TranvikFinlandNewYork'},\n",
       " {'StreathamSurrey'},\n",
       " {'GuernseyElizabethNJ'},\n",
       " {'DevonportEngland'},\n",
       " {'GenevaSwitzerlandRadnorPA'},\n",
       " {'NewBritainCT'},\n",
       " {'IndianapolisIN'},\n",
       " {'ParisFrance'},\n",
       " {'DorkingSurreyEngland'},\n",
       " {'LondonEnglandNorfolkVA'},\n",
       " {'PomeroyWA'},\n",
       " {'DuluthMN'},\n",
       " {'UpperBurmaIndiaPittsburghPA'},\n",
       " {'SwedenWinnipegMN'},\n",
       " {'ParisFranceNewYorkNY'},\n",
       " {'WashingtonDC'},\n",
       " {'DenverCO'},\n",
       " {'CatfordKentDetroitMI'},\n",
       " {'GuernseyWilmingtonDE'},\n",
       " {'DagsasSwedenFowerMN'},\n",
       " {'WiltshireEnglandNiagaraFallsNY'},\n",
       " {'ZurichSwitzerland'},\n",
       " {'GermantownPhiladelphiaPA'},\n",
       " {'KontiolahtiFinlandDetroitMI'},\n",
       " {'LakewoodNJ'},\n",
       " {'BirkdaleEnglandClevelandOhio'},\n",
       " {'SeattleWA'},\n",
       " {'LondonFortByronNY'},\n",
       " {'LosAngelesCA'},\n",
       " {'LondonEnglandMariettaOhioandMilwaukeeWI'},\n",
       " {'CoSligoIrelandHartfordCT'},\n",
       " {'BergenNorway'},\n",
       " {'BenningtonVT'},\n",
       " {'RuotsinphyhtaaFinlandNewYorkNY'},\n",
       " {'FolkstoneKentNewYorkNY'},\n",
       " {'HamiltonON'},\n",
       " {'WestHavenCT'},\n",
       " {'HalifaxNS'},\n",
       " {'dead'},\n",
       " {'SwedenWorcesterMA'},\n",
       " {'LowerClaptonMiddlesexorErdingtonBirmingham'},\n",
       " {'MinneapolisMN'},\n",
       " {'IlfracombeDevon'},\n",
       " {'LondonChicagoIL'},\n",
       " {'MontevideoUruguay'},\n",
       " {'SydneyAustralia'},\n",
       " {'VictoriaBC'},\n",
       " {'DeerLodgeMT'},\n",
       " {'ElizabethNJ'},\n",
       " {'RoachdaleIN'},\n",
       " {'GuernseyEnglandEdgewoodRI'},\n",
       " {'BulgariaCoonRapidsIA'},\n",
       " {'NewYorkNYWashingtonDC'},\n",
       " {'IndiaPittsburghPA'},\n",
       " {'EnglandAlbionNY'},\n",
       " {'MontrealPQ'},\n",
       " {'HarrisburgPA'},\n",
       " {'HaverfordPACooperstownNY'},\n",
       " {'WoodfordCountyKY'},\n",
       " {'FinlandWashingtonDC'},\n",
       " {'Queenstown'},\n",
       " {'sex'},\n",
       " {'PondersendEnglandNewDurhamNJ'},\n",
       " {'BishopstokeHantsFayetteValleyID'},\n",
       " {'BuenosAiresArgentinaNewJerseyNJ'},\n",
       " {'LimaPeru'},\n",
       " {'MedeltorpSwedenChicagoIL'},\n",
       " {'BournmouthEngland'},\n",
       " {'ForesvikNorwayPortlandND'},\n",
       " {'Spain'},\n",
       " {'OskarshamnSwedenMinneapolisMN'},\n",
       " {'NorthEvingtonEngland'},\n",
       " {'DetroitMI'},\n",
       " {'StIvesCornwallHancockMI'},\n",
       " {'GoteborgSwedenHuntleyIL'},\n",
       " {'SwedenChicagoIL'},\n",
       " {'RussiaNewYorkNY'},\n",
       " {'DenmarkHillSurreyChicago'},\n",
       " {'KrakuddenSwedenMouneIL'},\n",
       " {'KrakorydSwedenBloomingtonIL'},\n",
       " {'MilwaukeeWI'},\n",
       " {'SpringfieldMA'},\n",
       " {'WimbledonParkLondonHaylingIslandHants'},\n",
       " {'HartfordHuntingdonshire'},\n",
       " {'BangkokThailandRosevilleIL'},\n",
       " {'WestonSuperMareSomerset'},\n",
       " {'SurbitonHillSurrey'},\n",
       " {'SwindonEngland'},\n",
       " {'RotherfieldSussexEnglandEssexCoMA'},\n",
       " {'WestcliffonSeaEssex'},\n",
       " {'IsleofWightEngland'},\n",
       " {'WorcesterMA'},\n",
       " {'SaultStMarieON'},\n",
       " {'DowagiacMI'},\n",
       " {'Austria'},\n",
       " {'YoungstownOH'},\n",
       " {'ElmiraNYOrangeNJ'},\n",
       " {'CoAthloneIrelandNewYorkNY'},\n",
       " {'TrentonNJ'},\n",
       " {'GunturIndiaBentonHarbourMI'},\n",
       " {'LiverpoolMontrealPQ'},\n",
       " {'AustriaNiagaraFallsNY'},\n",
       " {'DevonEnglandWichitaKS'},\n",
       " {'CooperstownNY'},\n",
       " {'AntwerpBelgiumStantonOH'},\n",
       " {'EnglandNewYorkNY'},\n",
       " {'StantonIA'},\n",
       " {'CoCorkIrelandRoxburyMA'},\n",
       " {'KilmacowenCoSligoIrelandNewYorkNY'},\n",
       " {'MtAiryPhiladelphiaPA'},\n",
       " {'Guernsey'},\n",
       " {'NewYorkNYStamfordCT'},\n",
       " {'StockholmSweden'},\n",
       " {'HelsinkiFinlandAshtabulaOhio'},\n",
       " {'TokyoJapan'},\n",
       " {'Paris'},\n",
       " {'BronxNY'},\n",
       " {'StAustallCornwall'},\n",
       " {'MilfordNH'},\n",
       " {'BrunswickME'},\n",
       " {'BroomfieldChelmsfordEngland'},\n",
       " {'CologneGermany'},\n",
       " {'RochesterNY'},\n",
       " {'Liverpool'},\n",
       " {'NewYorkNYGreenwichCT'},\n",
       " {'PortlandOR'},\n",
       " {'BournemouthEnglandNewarkNJ'},\n",
       " {'NorwayLosAngelesCA'},\n",
       " {'AscotBerkshireRochesterNY'},\n",
       " {'GreenportNY'},\n",
       " {'SomersetBernardsvilleNJ'},\n",
       " {'BarcelonaSpainHavanaCuba'},\n",
       " {'BrightonSussex'},\n",
       " {'KingwilliamstownCoCorkIrelandGlensFallsNY'},\n",
       " {'ParisNewYorkNY'},\n",
       " {'NewarkNJ'},\n",
       " {'NorrlotSwedenChicagoIL'},\n",
       " {'EastBridgewaterMA'},\n",
       " {'PlymouthEngland'},\n",
       " {'LittleOnnHallStaffs'},\n",
       " {'LondonStatenIslandNY'},\n",
       " {'HalesworthEngland'},\n",
       " {'VadsbroSwedenMinisteeMI'},\n",
       " {'JanjgirIndiaPennsylvania'},\n",
       " {'EffingtonRutSD'},\n",
       " {'BelgiumMontrealPQ'},\n",
       " {'NewYorkNY'},\n",
       " {'IrelandNewYorkNY'},\n",
       " {'CoLimerickIrelandSherbrookePQ'},\n",
       " {'LondonEastOrangeNJ'},\n",
       " {'CapeTownSouthAfricaSeattleWA'},\n",
       " {'Pennsylvania'},\n",
       " {'ChelseaLondon'},\n",
       " {'CornwallSpokaneWA'},\n",
       " {'SyriaFredericksburgVA'},\n",
       " {'AlbanyNY'},\n",
       " {'YoevilEnglandCottageGroveOR'},\n",
       " {'ManchesterEngland'},\n",
       " {'CornwallHoughtonMI'},\n",
       " {'FrankfortKY'},\n",
       " {'CornwallAkronOH'},\n",
       " {'ElkinsParkPA'},\n",
       " {'OsloNorwayCameronWI'},\n",
       " {'home.dest'},\n",
       " {'pclass'},\n",
       " {'LondonEngland'},\n",
       " {'HarrowontheHillMiddlesex'},\n",
       " {'SyriaYoungstownOH'},\n",
       " {'SwedenJolietIL'},\n",
       " {'LondonVancouverBC'},\n",
       " {'Ireland'},\n",
       " {'StIvesCornwallCalumetMI'},\n",
       " {'WinnipegMB'},\n",
       " {'HessleYorks'},\n",
       " {'SyriaNewYorkNY'},\n",
       " {'CoSligoIrelandNewYorkNY'},\n",
       " {'3rd'},\n",
       " {'TampicoMT'},\n",
       " {'BrocktonMA'},\n",
       " {'CopenhagenDenmark'},\n",
       " {'Southampton'},\n",
       " {'GreensburgPA'},\n",
       " {'BristolEnglandNewBritainCT'},\n",
       " {'AsarumSwedenBrooklynNY'},\n",
       " {'IllinoisUSA'},\n",
       " {'DeephavenMNCedarRapidsIA'},\n",
       " {'HornseyEngland'},\n",
       " {'StLouisMO'},\n",
       " {'StoughtonMA'},\n",
       " {'HolleyNY'},\n",
       " {'StLeonardsonSeaEnglandOhio'},\n",
       " {'MoscowBronxNY'},\n",
       " {'BathEnglandMassachusetts'},\n",
       " {'OmahaNE'},\n",
       " {'BelfastNI'},\n",
       " {'alive'},\n",
       " {'AustriaHungaryGermantownPhiladelphiaPA'},\n",
       " {'ProvoUT'},\n",
       " {'StDenysSouthamptonHants'},\n",
       " {'EnglandDetroitMI'},\n",
       " {'SyriaOttawaON'},\n",
       " {'SwedenAkeleyMN'},\n",
       " {'PhiladelphiaPA'},\n",
       " {'GlasgowBangorME'},\n",
       " {'Russia'},\n",
       " {'PenzanceCornwallAkronOH'},\n",
       " {'SouthseaHants'},\n",
       " {'LiverpoolEnglandBedfordOH'},\n",
       " {'RuotsinphytaaFinlandNewYorkNY'},\n",
       " {'London'},\n",
       " {'GreenBayWI'},\n",
       " {'MontrealPQChestervilleON'},\n",
       " {'BristolAvonJacksonvilleFL'},\n",
       " {'BridgeruleDevon'},\n",
       " {'survived'},\n",
       " {'WaukeganChicagoIL'},\n",
       " {'RotterdamNetherlands'},\n",
       " {'GlenRidgeNJ'},\n",
       " {'LondonWinnipegMB'},\n",
       " {'StJamesLongIslandNY'},\n",
       " {'SkaraSwedenRockfordIL'},\n",
       " {'NewForestEngland'},\n",
       " {'PlymouthDevonDetroitMI'},\n",
       " {'EnglandBenningtonVT'},\n",
       " {'SouthingtonNoankCT'},\n",
       " {'PlymouthDorsetHoughtonMI'},\n",
       " {'BuffaloNY'},\n",
       " {'AmeniaND'},\n",
       " {'DenmarkNewYorkNY'},\n",
       " {'WestKensingtonLondon'},\n",
       " {'embarked'},\n",
       " {'2nd'},\n",
       " {'WestHobokenNJ'},\n",
       " {'Cherbourg'},\n",
       " {'MyrenSwedenNewYorkNY'},\n",
       " {'MexicoCityMexico'},\n",
       " {'England'},\n",
       " {'BostonMA'},\n",
       " {'OttawaON'},\n",
       " {'LexingtonMA'},\n",
       " {'ChicagoIL'},\n",
       " {'WestonSuperMareMooseJawSK'},\n",
       " {'StIvesCornwallHoughtonMI'},\n",
       " {'AberdeenPortlandOR'},\n",
       " {'GoteborgSwedenRockfordIL'},\n",
       " {'BelgiumDetroitMI'},\n",
       " {'UnionHillNJ'},\n",
       " {'SeattleWAToledoOH'},\n",
       " {'HudsonNY'},\n",
       " {'BournemouthEngland'},\n",
       " {'Cornwall'},\n",
       " {'LondonParis'},\n",
       " {'GunnislakeEnglandButteMT'},\n",
       " {'JacksonvilleFL'},\n",
       " {'BaysideQueensNY'},\n",
       " {'EastProvidenceRI'},\n",
       " {'BallydehobCoCorkIrelandNewYorkNY'},\n",
       " {'LuccaItalyCalifornia'},\n",
       " {\"StAnne'sonSeaLancashire\"},\n",
       " {'Croatia'},\n",
       " {'ParisMontrealPQ'},\n",
       " {'CornwallCamdenNJ'},\n",
       " {'AustriaHungary'},\n",
       " {'HartfordCT'},\n",
       " {'BrennesNorwayNewYork'},\n",
       " {'BulgariaChicagoIL'},\n",
       " {'SarniaON'},\n",
       " {'VancouverBC'},\n",
       " {'HongKongNewYorkNY'},\n",
       " {'HuntingtonWV'},\n",
       " {'WestBromwichEnglandPontiacMI'},\n",
       " {'EnglandPhiladelphiaPA'},\n",
       " {'LondonBirmingham'},\n",
       " {'PerkinsCountySD'},\n",
       " {'WestHampsteadLondonNeepawaMB'},\n",
       " {'female'},\n",
       " {'EnglandSaltLakeCityUtah'},\n",
       " {'IrelandPhiladelphiaPA'},\n",
       " {'GuernseyMontclairNJand/orToledoOhio'},\n",
       " {'FinlandSudburyON'},\n",
       " {'HaverfordPA'},\n",
       " {'OsloNorwayBayonneNJ'},\n",
       " {'EnglandBrooklynNY'},\n",
       " {'WindsorEnglandNewYorkNY'},\n",
       " {'HaddenfieldNJ'},\n",
       " {'MadridSpain'},\n",
       " {'GreenwichCT'},\n",
       " {'SittingbourneEnglandSanDiegoCA'},\n",
       " {'TuxedoParkNY'},\n",
       " {'GallipolisOhioParisNewYork'},\n",
       " {'EnglandSacramentoCA'},\n",
       " {'LakeArthurChavezCountyNM'},\n",
       " {'KingwilliamstownCoCorkIrelandNewYorkNY'},\n",
       " {'MamaroneckNY'},\n",
       " {'EnglandHartfordCT'},\n",
       " {'SyriaKentON'},\n",
       " {'ProvidenceRI'},\n",
       " {'KingstonSurrey'},\n",
       " {'MiddleburgHeightsOH'},\n",
       " {'BrooklineMA'},\n",
       " {'IlfordEssexWinnipegMB'},\n",
       " {'SaloFinlandAstoriaOR'},\n",
       " {'TreherbertCardiffWales'},\n",
       " {'Belfast'},\n",
       " {'KarbergSwedenJeromeJunctionAZ'},\n",
       " {'Glasgow'},\n",
       " {'BarreCoWashingtonVT'},\n",
       " {'LondonMiddlesex'},\n",
       " {'BelmontMA'},\n",
       " {'WarwickEngland'},\n",
       " {'NorwichNewYorkNY'},\n",
       " {'StAndrewsGuernsey'},\n",
       " {'Syria'},\n",
       " {'TaalintehdasFinlandHobokenNJ'},\n",
       " {'ScituateMA'},\n",
       " {'BrightonMA'},\n",
       " {'BrooklynNY'},\n",
       " {'LondonNewYorkNY'},\n",
       " {'PetworthSussex'},\n",
       " {'StroodKentEnglandDetroitMI'},\n",
       " {'CornwallClearCreekCO'},\n",
       " {'IrelandChicagoIL'},\n",
       " {'SwedenArlingtonNJ'},\n",
       " {'CambridgeMA'},\n",
       " {'LondonSkantealesNY'},\n",
       " {'WorcesterEngland'},\n",
       " {'BristolEnglandClevelandOH'},\n",
       " {'FinlandMinneapolisMN'},\n",
       " {'ParisHaiti'},\n",
       " {'CornwallEnglandHoughtonMI'},\n",
       " {'LyndhurstEngland'},\n",
       " {'SanFranciscoCA'},\n",
       " {'IrelandBrooklynNY'},\n",
       " {'CalgaryAB'},\n",
       " {'AltdorfSwitzerland'},\n",
       " {'BridgwaterSomersetEngland'},\n",
       " {'HarrowEngland'},\n",
       " {'TorontoON'},\n",
       " {'BrynMawrPAUSA'},\n",
       " {'1st'},\n",
       " {'WalthamstowEngland'},\n",
       " {'NiceFrance'}]"
      ]
     },
     "execution_count": 29,
     "metadata": {},
     "output_type": "execute_result"
    }
   ],
   "source": [
    "# décommenter les lignes suivantes:\n",
    "\n",
    "print(\"Pour la BASE Titanic :\")\n",
    "noms_items(Base_titanic)\n",
    "\n",
    "print(\"Exemple: singletons(Base_titanic) rend :\")\n",
    "singletons(Base_titanic)"
   ]
  },
  {
   "cell_type": "code",
   "execution_count": 30,
   "metadata": {},
   "outputs": [
    {
     "name": "stdout",
     "output_type": "stream",
     "text": [
      "[({'alive', 'Southampton', 'female'}, 0.203778677462888), ({'2nd', 'male'}, 0.20647773279352227), ({'1st', 'Southampton'}, 0.20917678812415655), ({'1st', 'male'}, 0.21997300944669365), ({'1st', 'alive'}, 0.23076923076923078), ({'Cherbourg'}, 0.23751686909581646), ({'Southampton', 'female'}, 0.2483130904183536), ({'3rd'}, 0.27125506072874495), ({'alive', 'Southampton'}, 0.2982456140350877), ({'2nd', 'Southampton'}, 0.30634278002699056), ({'alive', 'female'}, 0.32388663967611336), ({'2nd'}, 0.3481781376518219), ({'dead', 'male', 'Southampton'}, 0.3684210526315789), ({'1st'}, 0.3792172739541161), ({'female'}, 0.38866396761133604), ({'dead', 'Southampton'}, 0.41295546558704455), ({'male', 'Southampton'}, 0.46288798920377866), ({'alive'}, 0.4642375168690958), ({'dead', 'male'}, 0.46963562753036436), ({'dead'}, 0.5344129554655871), ({'male'}, 0.6099865047233468), ({'Southampton'}, 0.7112010796221323)]\n",
      "[({'male'}, 0.6099865047233468), ({'dead'}, 0.5344129554655871), ({'3rd'}, 0.27125506072874495), ({'Southampton'}, 0.7112010796221323), ({'alive'}, 0.4642375168690958), ({'2nd'}, 0.3481781376518219), ({'Cherbourg'}, 0.23751686909581646), ({'female'}, 0.38866396761133604), ({'1st'}, 0.3792172739541161), ({'dead', 'male'}, 0.46963562753036436), ({'male', 'Southampton'}, 0.46288798920377866), ({'2nd', 'male'}, 0.20647773279352227), ({'1st', 'male'}, 0.21997300944669365), ({'dead', 'Southampton'}, 0.41295546558704455), ({'alive', 'Southampton'}, 0.2982456140350877), ({'2nd', 'Southampton'}, 0.30634278002699056), ({'Southampton', 'female'}, 0.2483130904183536), ({'1st', 'Southampton'}, 0.20917678812415655), ({'alive', 'female'}, 0.32388663967611336), ({'1st', 'alive'}, 0.23076923076923078), ({'dead', 'male', 'Southampton'}, 0.3684210526315789), ({'alive', 'Southampton', 'female'}, 0.203778677462888)]\n",
      "({'dead', 'male'}, 0.46963562753036436)\n",
      "({'male', 'Southampton'}, 0.46288798920377866)\n",
      "({'dead', 'Southampton'}, 0.41295546558704455)\n",
      "({'dead', 'male', 'Southampton'}, 0.3684210526315789)\n",
      "({'alive', 'female'}, 0.32388663967611336)\n",
      "({'2nd', 'Southampton'}, 0.30634278002699056)\n",
      "({'alive', 'Southampton'}, 0.2982456140350877)\n",
      "({'Southampton', 'female'}, 0.2483130904183536)\n",
      "({'1st', 'alive'}, 0.23076923076923078)\n",
      "({'1st', 'male'}, 0.21997300944669365)\n",
      "({'1st', 'Southampton'}, 0.20917678812415655)\n",
      "({'2nd', 'male'}, 0.20647773279352227)\n",
      "({'alive', 'Southampton', 'female'}, 0.203778677462888)\n"
     ]
    }
   ],
   "source": [
    "Lres = apriori(Base_titanic,0.2)\n",
    "\n",
    "# tri sur les valeurs de supports:\n",
    "print(sorted(Lres, key=lambda data: data[1]))\n",
    "\n",
    "# tri sur la taille des itemsets\n",
    "print(sorted(Lres, key=lambda data: len(data[0])))\n",
    "\n",
    "for t in sorted(Lres, key=lambda data: data[1],reverse = True):\n",
    "    if len(t[0])>1:\n",
    "        print(t)\n"
   ]
  },
  {
   "cell_type": "code",
   "execution_count": 31,
   "metadata": {},
   "outputs": [
    {
     "name": "stdout",
     "output_type": "stream",
     "text": [
      "Itemsets et valeurs de support pour Titanic :\n"
     ]
    },
    {
     "data": {
      "text/plain": [
       "[({'Southampton', 'alive', 'female'}, 0.203778677462888),\n",
       " ({'2nd', 'male'}, 0.20647773279352227),\n",
       " ({'1st', 'Southampton'}, 0.20917678812415655),\n",
       " ({'1st', 'male'}, 0.21997300944669365),\n",
       " ({'1st', 'alive'}, 0.23076923076923078),\n",
       " ({'Cherbourg'}, 0.23751686909581646),\n",
       " ({'Southampton', 'female'}, 0.2483130904183536),\n",
       " ({'3rd'}, 0.27125506072874495),\n",
       " ({'Southampton', 'alive'}, 0.2982456140350877),\n",
       " ({'2nd', 'Southampton'}, 0.30634278002699056),\n",
       " ({'alive', 'female'}, 0.32388663967611336),\n",
       " ({'2nd'}, 0.3481781376518219),\n",
       " ({'Southampton', 'dead', 'male'}, 0.3684210526315789),\n",
       " ({'1st'}, 0.3792172739541161),\n",
       " ({'female'}, 0.38866396761133604),\n",
       " ({'Southampton', 'dead'}, 0.41295546558704455),\n",
       " ({'Southampton', 'male'}, 0.46288798920377866),\n",
       " ({'alive'}, 0.4642375168690958),\n",
       " ({'dead', 'male'}, 0.46963562753036436),\n",
       " ({'dead'}, 0.5344129554655871),\n",
       " ({'male'}, 0.6099865047233468),\n",
       " ({'Southampton'}, 0.7112010796221323)]"
      ]
     },
     "execution_count": 31,
     "metadata": {},
     "output_type": "execute_result"
    }
   ],
   "source": [
    "# Nouvel affichage pour faciliter la compréhention\n",
    "print(\"Itemsets et valeurs de support pour Titanic :\")\n",
    "[({'Southampton', 'female', 'alive'}, 0.203778677462888), ({'male', '2nd'}, 0.20647773279352227), ({'1st', 'Southampton'}, 0.20917678812415655), ({'1st', 'male'}, 0.21997300944669365), ({'1st', 'alive'}, 0.23076923076923078), ({'Cherbourg'}, 0.23751686909581646), ({'Southampton', 'female'}, 0.2483130904183536), ({'3rd'}, 0.27125506072874495), ({'Southampton', 'alive'}, 0.2982456140350877), ({'Southampton', '2nd'}, 0.30634278002699056), ({'female', 'alive'}, 0.32388663967611336), ({'2nd'}, 0.3481781376518219), ({'dead', 'Southampton', 'male'}, 0.3684210526315789), ({'1st'}, 0.3792172739541161), ({'female'}, 0.38866396761133604), ({'dead', 'Southampton'}, 0.41295546558704455), ({'male', 'Southampton'}, 0.46288798920377866), ({'alive'}, 0.4642375168690958), ({'dead', 'male'}, 0.46963562753036436), ({'dead'}, 0.5344129554655871), ({'male'}, 0.6099865047233468), ({'Southampton'}, 0.7112010796221323)]"
   ]
  },
  {
   "cell_type": "code",
   "execution_count": 32,
   "metadata": {},
   "outputs": [
    {
     "name": "stdout",
     "output_type": "stream",
     "text": [
      "Itemsets et valeurs de supports pour Titanic triés en fonction de la taille des itemsets :\n"
     ]
    },
    {
     "data": {
      "text/plain": [
       "[({'alive'}, 0.4642375168690958),\n",
       " ({'Southampton'}, 0.7112010796221323),\n",
       " ({'Cherbourg'}, 0.23751686909581646),\n",
       " ({'3rd'}, 0.27125506072874495),\n",
       " ({'2nd'}, 0.3481781376518219),\n",
       " ({'dead'}, 0.5344129554655871),\n",
       " ({'female'}, 0.38866396761133604),\n",
       " ({'1st'}, 0.3792172739541161),\n",
       " ({'male'}, 0.6099865047233468),\n",
       " ({'Southampton', 'alive'}, 0.2982456140350877),\n",
       " ({'alive', 'female'}, 0.32388663967611336),\n",
       " ({'1st', 'alive'}, 0.23076923076923078),\n",
       " ({'2nd', 'Southampton'}, 0.30634278002699056),\n",
       " ({'Southampton', 'dead'}, 0.41295546558704455),\n",
       " ({'Southampton', 'female'}, 0.2483130904183536),\n",
       " ({'1st', 'Southampton'}, 0.20917678812415655),\n",
       " ({'Southampton', 'male'}, 0.46288798920377866),\n",
       " ({'2nd', 'male'}, 0.20647773279352227),\n",
       " ({'dead', 'male'}, 0.46963562753036436),\n",
       " ({'1st', 'male'}, 0.21997300944669365),\n",
       " ({'Southampton', 'alive', 'female'}, 0.203778677462888),\n",
       " ({'Southampton', 'dead', 'male'}, 0.3684210526315789)]"
      ]
     },
     "execution_count": 32,
     "metadata": {},
     "output_type": "execute_result"
    }
   ],
   "source": [
    "# Nouvel affichage pour faciliter la compréhension\n",
    "print(\"Itemsets et valeurs de supports pour Titanic triés en fonction de la taille des itemsets :\")\n",
    "[({'alive'}, 0.4642375168690958), ({'Southampton'}, 0.7112010796221323), ({'Cherbourg'}, 0.23751686909581646), ({'3rd'}, 0.27125506072874495), ({'2nd'}, 0.3481781376518219), ({'dead'}, 0.5344129554655871), ({'female'}, 0.38866396761133604), ({'1st'}, 0.3792172739541161), ({'male'}, 0.6099865047233468), ({'Southampton', 'alive'}, 0.2982456140350877), ({'female', 'alive'}, 0.32388663967611336), ({'1st', 'alive'}, 0.23076923076923078), ({'Southampton', '2nd'}, 0.30634278002699056), ({'dead', 'Southampton'}, 0.41295546558704455), ({'Southampton', 'female'}, 0.2483130904183536), ({'1st', 'Southampton'}, 0.20917678812415655), ({'male', 'Southampton'}, 0.46288798920377866), ({'male', '2nd'}, 0.20647773279352227), ({'dead', 'male'}, 0.46963562753036436), ({'1st', 'male'}, 0.21997300944669365), ({'Southampton', 'female', 'alive'}, 0.203778677462888), ({'dead', 'Southampton', 'male'}, 0.3684210526315789)]"
   ]
  },
  {
   "cell_type": "markdown",
   "metadata": {},
   "source": [
    "<font color=\"RED\" size=\"+1\">**[Q]**</font>  Utiliser l'éxécutable <code>apriori</code> pour générer des règles d'association (voir les différentes options en annexe) sur les différentes bases de données fournies. Tester différents seuils (support et confiance). "
   ]
  },
  {
   "cell_type": "code",
   "execution_count": 33,
   "metadata": {},
   "outputs": [
    {
     "name": "stdout",
     "output_type": "stream",
     "text": [
      "Résultat de l'utilisation de apriori ( 0.02050471305847168 secondes ) :\n",
      "c <- a b (50, 80)\n",
      "\n",
      "b <- a (60, 83.3333)\n",
      "\n",
      "c <- b (70, 85.7143)\n",
      "\n",
      "b <- c (70, 85.7143)\n",
      "\n"
     ]
    },
    {
     "name": "stderr",
     "output_type": "stream",
     "text": [
      "apriori - find frequent item sets with the apriori algorithm\n",
      "version 6.29 (2020.06.15)        (c) 1996-2020   Christian Borgelt\n",
      "reading datasets/exemple-1.txt ... [5 item(s), 10 transaction(s)] done [0.00s].\n",
      "filtering, sorting and recoding items ... [4 item(s)] done [0.00s].\n",
      "sorting and reducing transactions ... [8/10 transaction(s)] done [0.00s].\n",
      "building transaction tree ... [12 node(s)] done [0.00s].\n",
      "checking subsets of size 1 2 3 done [0.00s].\n",
      "writing results/resultat-apriori.txt ... [4 rule(s)] done [0.00s].\n"
     ]
    }
   ],
   "source": [
    "import time\n",
    "startTime = time.time()\n",
    "!apriori -trs50m2n5 datasets/exemple-1.txt results/resultat-apriori.txt\n",
    "endTime = time.time() - startTime\n",
    "\n",
    "print(\"Résultat de l'utilisation de apriori (\",endTime, \"secondes ) :\")\n",
    "with open(\"results/resultat-apriori.txt\", \"r\") as f :\n",
    "    lines = f.readlines()\n",
    "    for l in lines :\n",
    "        print(l)"
   ]
  },
  {
   "cell_type": "markdown",
   "metadata": {},
   "source": [
    "<font color=\"RED\" size=\"+1\">**[Q]**</font>   Ajouter les deux mesures d'intérêt vues en TD (lift et RR) et afficher leurs valeurs pour chaque règle trouvée. Ajouter un argument au programme afin de pouvoir sélectionner une de ces mesures pour éliminer les règles inintéressantes.\n"
   ]
  },
  {
   "cell_type": "code",
   "execution_count": null,
   "metadata": {},
   "outputs": [],
   "source": []
  },
  {
   "cell_type": "markdown",
   "metadata": {},
   "source": [
    "<font color=\"RED\" size=\"+1\">**[Q]**</font>  Ajouter les deux mesures d'intérêt suivantes et afficher leurs valeurs\n",
    "  pour chaque règle trouvée. Ajouter un argument au programme afin de pouvoir sélectionner une de ces mesures pour éliminer les règles inintéressantes.\n",
    "  \n",
    "Par exemple:\n",
    "\n",
    "\\begin{align}\n",
    "  \\mbox{Interest}(X \\longrightarrow Y) & =  \\frac{P(X,Y)}{P(X)}P(Y) \\nonumber\\\\\n",
    " \\mbox{IS}(X \\longrightarrow Y) & =  \\frac{P(X,Y)}{\\sqrt{P(X)P(Y)}} \\nonumber\n",
    "\\end{align}"
   ]
  },
  {
   "cell_type": "markdown",
   "metadata": {},
   "source": [
    "### Utilisation de fp-growth"
   ]
  },
  {
   "cell_type": "markdown",
   "metadata": {},
   "source": [
    "<font color=\"RED\" size=\"+1\">**[Q]**</font>   Utiliser <code>fpgrowth</code> pour générer des règles d'association sur les différentes\n",
    "  bases de données. Comparer avec les résultats obtenus dans la section précédente. En  particulier, comparer les temps d'éxecution."
   ]
  },
  {
   "cell_type": "code",
   "execution_count": 34,
   "metadata": {},
   "outputs": [
    {
     "name": "stdout",
     "output_type": "stream",
     "text": [
      "Résultat de l'utilisation de fpgrowth ( 0.021503925323486328 secondes ) :\n",
      "b <- c (70, 85.7143)\n",
      "\n",
      "c <- b (70, 85.7143)\n",
      "\n",
      "b <- a (60, 83.3333)\n",
      "\n",
      "c <- a b (50, 80)\n",
      "\n"
     ]
    },
    {
     "name": "stderr",
     "output_type": "stream",
     "text": [
      "fpgrowth - find frequent item sets with the fpgrowth algorithm\n",
      "version 6.19 (2020.06.15)        (c) 2004-2020   Christian Borgelt\n",
      "reading datasets/exemple-1.txt ... [5 item(s), 10 transaction(s)] done [0.00s].\n",
      "filtering, sorting and recoding items ... [4 item(s)] done [0.00s].\n",
      "sorting and reducing transactions ... [8/10 transaction(s)] done [0.00s].\n",
      "finding frequent item set(s) ... done [0.00s].\n",
      "writing results/resultat-fpgrowth.txt ... [4 rule(s)] done [0.00s].\n"
     ]
    }
   ],
   "source": [
    "startTime = time.time()\n",
    "!fpgrowth -trs50m2n5 datasets/exemple-1.txt results/resultat-fpgrowth.txt\n",
    "endTime = time.time() - startTime\n",
    "\n",
    "print(\"Résultat de l'utilisation de fpgrowth (\",endTime, \"secondes ) :\")\n",
    "with open(\"results/resultat-fpgrowth.txt\", \"r\") as f :\n",
    "    lines = f.readlines()\n",
    "    for l in lines :\n",
    "        print(l)"
   ]
  },
  {
   "cell_type": "markdown",
   "metadata": {},
   "source": [
    "On remarque que les temps d'exécution sont similaires, que l'on utilise apriori ou fpgrowth."
   ]
  },
  {
   "cell_type": "markdown",
   "metadata": {},
   "source": [
    "<font color=\"RED\" size=\"+1\">**[Q]**</font>  En essayant différentes valeurs de seuil, tester la génération de règles d'association intéressantes sur les bases de données fournies."
   ]
  },
  {
   "cell_type": "code",
   "execution_count": null,
   "metadata": {},
   "outputs": [],
   "source": []
  },
  {
   "cell_type": "markdown",
   "metadata": {},
   "source": [
    "## Annexes: utilisation des exécutables *apriori* et *fpgrowth*\n",
    "\n",
    "La documentation complète de ces programmes est disponible aux URL suivantes:\n",
    "- pour *apriori*: http://www.borgelt.net/doc/apriori/apriori.html\n",
    "- pour *fp-growth*: http://www.borgelt.net/doc/fpgrowth/fpgrowth.html\n",
    "\n",
    "\n",
    "Leur format d'utilisation général est:\n",
    "\n",
    "        ./<programme> [options] infile [outfile]\n",
    "\n",
    "(où <<code>programme</code>> est soit *apriori*, soit *fpgrowth*).\n",
    "\n",
    "Les options de base de ces 2 programmes sont:\n",
    "- sans argument: génération des itemsets fréquents (argument {<code>-ts</code> activé par défaut)\n",
    "- *tr*: pour obtenir les règles d'associations\n",
    "- *s*: pour fournir une valeur minimale de support. Le support est ici donné en valeur absolue ($n_{AB}$) et non pas en valeur relative ($\\frac{n_{AB}}{n}$).\n",
    "- *m*: pour fournir un nombre minimum d'items dans un itemset\n",
    "- *n*: pour fournir un nombre maximum d'items dans un itemset\n",
    "\n",
    "\n",
    "Par exemple (commandes lancées dans le répertoire père du répertoire *datasets/*):\n",
    "\n",
    "        ./apriori -trs50m2n5 datasets/exemple-1.txt fichier-resultat.out  \n",
    "        ./fpgrowth -trs50m2n5 datasets/mushrooms.txt fichier-resultat.out  \n"
   ]
  },
  {
   "cell_type": "code",
   "execution_count": 39,
   "metadata": {},
   "outputs": [
    {
     "name": "stdout",
     "output_type": "stream",
     "text": [
      "Résultat de l'utilisation de apriori sur la base mushrooms :\n",
      "NONE <- EDIBLE SMOOTH PARTIAL (51.0694, 81.3867)\n",
      "\n",
      "NONE <- EDIBLE SMOOTH (51.0694, 81.3867)\n",
      "\n",
      "NONE <- EDIBLE FREE WHITE PARTIAL (51.0456, 81.378)\n",
      "\n",
      "NONE <- EDIBLE FREE WHITE (51.0456, 81.378)\n",
      "\n",
      "NONE <- EDIBLE FREE PARTIAL (51.0456, 81.378)\n",
      "\n"
     ]
    },
    {
     "name": "stderr",
     "output_type": "stream",
     "text": [
      "apriori - find frequent item sets with the apriori algorithm\n",
      "version 6.29 (2020.06.15)        (c) 1996-2020   Christian Borgelt\n",
      "reading datasets/mushrooms.txt ... [70 item(s), 8416 transaction(s)] done [0.01s].\n",
      "filtering, sorting and recoding items ... [20 item(s)] done [0.00s].\n",
      "sorting and reducing transactions ... [198/8416 transaction(s)] done [0.00s].\n",
      "building transaction tree ... [450 node(s)] done [0.00s].\n",
      "checking subsets of size 1 2 3 4 5 done [0.00s].\n",
      "writing results/resultat-mushrooms-apriori.txt ... [420 rule(s)] done [0.00s].\n"
     ]
    },
    {
     "name": "stdout",
     "output_type": "stream",
     "text": [
      "Résultat de l'utilisation de fpgrowth sur la base mushrooms :\n",
      "PARTIAL <- WHITE (97.7186, 100)\n",
      "\n",
      "WHITE <- PARTIAL (100, 97.7186)\n",
      "\n",
      "PARTIAL <- FREE (97.4335, 100)\n",
      "\n",
      "FREE <- PARTIAL (100, 97.4335)\n",
      "\n",
      "PARTIAL <- FREE WHITE (97.4335, 100)\n",
      "\n"
     ]
    },
    {
     "name": "stderr",
     "output_type": "stream",
     "text": [
      "fpgrowth - find frequent item sets with the fpgrowth algorithm\n",
      "version 6.19 (2020.06.15)        (c) 2004-2020   Christian Borgelt\n",
      "reading datasets/mushrooms.txt ... [70 item(s), 8416 transaction(s)] done [0.01s].\n",
      "filtering, sorting and recoding items ... [20 item(s)] done [0.00s].\n",
      "sorting and reducing transactions ... [198/8416 transaction(s)] done [0.00s].\n",
      "finding frequent item set(s) ... done [0.00s].\n",
      "writing results/resultat-mushrooms-fpgrowth.txt ... [420 rule(s)] done [0.00s].\n"
     ]
    }
   ],
   "source": [
    "# Utilisation de apriori et fpgrowth sur la base mushrooms\n",
    "\n",
    "!apriori -trs50m2n5 datasets/mushrooms.txt results/resultat-mushrooms-apriori.txt\n",
    "\n",
    "print(\"Résultat de l'utilisation de apriori sur la base mushrooms :\")\n",
    "with open(\"results/resultat-mushrooms-apriori.txt\", \"r\") as f :\n",
    "    lines = f.readlines()\n",
    "    for l in lines[:5] :\n",
    "        print(l)\n",
    "\n",
    "!fpgrowth -trs50m2n5 datasets/mushrooms.txt results/resultat-mushrooms-fpgrowth.txt\n",
    "\n",
    "print(\"Résultat de l'utilisation de fpgrowth sur la base mushrooms :\")\n",
    "with open(\"results/resultat-mushrooms-fpgrowth.txt\", \"r\") as f :\n",
    "    lines = f.readlines()\n",
    "    for l in lines[:5] :\n",
    "        print(l)"
   ]
  }
 ],
 "metadata": {
  "kernelspec": {
   "display_name": "Python 3",
   "language": "python",
   "name": "python3"
  },
  "language_info": {
   "codemirror_mode": {
    "name": "ipython",
    "version": 3
   },
   "file_extension": ".py",
   "mimetype": "text/x-python",
   "name": "python",
   "nbconvert_exporter": "python",
   "pygments_lexer": "ipython3",
   "version": "3.9.7"
  }
 },
 "nbformat": 4,
 "nbformat_minor": 1
}
