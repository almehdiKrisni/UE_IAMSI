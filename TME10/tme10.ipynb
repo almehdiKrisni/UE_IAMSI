{
 "cells": [
  {
   "cell_type": "markdown",
   "metadata": {},
   "source": [
    "IAMSI -- 2021-2022\n",
    "--------\n",
    "*&copy; Equipe pédagogique : Gauvain Bourgne, Jean-Gabriel Ganascia, Marie-Jeanne Lesot, Christophe Marsala.*\n",
    "\n",
    "# TME 10 : Arbres de décision"
   ]
  },
  {
   "cell_type": "markdown",
   "metadata": {},
   "source": [
    "<font color=\"RED\" size=\"+1\">**[Q]**</font> **Indiquer dans la boîte ci-dessous vos noms et prénoms:**"
   ]
  },
  {
   "cell_type": "markdown",
   "metadata": {},
   "source": [
    "- KRISNI Almehdi (3800519)\n",
    "- ARICHANDRA Santhos (3802651)"
   ]
  },
  {
   "cell_type": "markdown",
   "metadata": {},
   "source": [
    "## Présentation"
   ]
  },
  {
   "cell_type": "markdown",
   "metadata": {},
   "source": [
    "#### Compte-rendu de la séance\n",
    "\n",
    "Le compte-rendu de ce TME se compose de ce fichier ipython complété par les réponses aux questions posées, il doit être rendu sur le site Moodle avant **lundi 10 mai, 18h00** au plus tard."
   ]
  },
  {
   "cell_type": "markdown",
   "metadata": {},
   "source": [
    "### Chargement de librairies utiles\n",
    "\n",
    "Avant de commencer, exécutez la boîte suivante qui permet d'utiliser ensuite les librairies Python qui vont être utiles dans ce notebook."
   ]
  },
  {
   "cell_type": "code",
   "execution_count": 1,
   "metadata": {},
   "outputs": [],
   "source": [
    "# Importation des librairies standards:\n",
    "import numpy as np\n",
    "import pandas as pd\n",
    "import matplotlib.pyplot as plt\n",
    "from collections import Counter\n",
    "import math\n",
    "%matplotlib inline"
   ]
  },
  {
   "cell_type": "markdown",
   "metadata": {},
   "source": [
    "### Entropie et gain d'information\n",
    "\n",
    "On note $\\{c_1, c_2,..., c_k\\}$, l'ensemble des classes possibles.\n",
    "\n",
    "Dans le cours, la mesure de désordre présentée utilise, pour toute valeur $c$ de la classe le ratio $\\frac{|Y(c)|}{|Y|}$ qui correspond à la probabilité de la classe $c$ parmi $Y$.\n",
    "On note dans ce qui suit $p_1$ la probabilité de la classe $c_1$ parmi $Y$, etc. \n",
    "\n",
    "Ainsi, on a $P=(p_1, p_2,..., p_k)$ la distribution de probabilités sur les classes ainsi définies.\n",
    "\n",
    "L'**entropie de Shannon** de la distribution $P$ est donnée par:\n",
    "\n",
    "$ H_S(P) = -\\sum_{i=1}^{k} p_i \\log_k(p_i)$\n",
    "\n",
    "Le logarithme utilisé est le logarithme en base $k$ qui permet d'obtenir une valeur normalisée de l'entropie. \n",
    "\n",
    "Dans l'implémentation de l'algorithme \n",
    "\n",
    "Pour ce qui suit, une *distribution de probabilités* est représentée par une **liste** Python $P=[p_1,...,p_k]$ de valeurs réelles telle que\n",
    "* pour tout $i=1,..., k$ : $0 \\leq p_i \\leq 1$\n",
    "* $\\sum_{i=1}^{k}p_i = 1$\n"
   ]
  },
  {
   "cell_type": "markdown",
   "metadata": {},
   "source": [
    "<font color=\"RED\" size=\"+1\">**[Q]**</font> Ecrire la fonction <code>shannon()</code> qui, étant donné une distribution de probabilités $P$, rend la valeur de $H_S(P)$, l'entropie de Shannon de $P$."
   ]
  },
  {
   "cell_type": "code",
   "execution_count": 47,
   "metadata": {},
   "outputs": [],
   "source": [
    "# Méthode permettant de calculer l'entropie de Shannon d'une liste\n",
    "def shannon(probList) :\n",
    "    # Cas où on a une seule probabilité\n",
    "    if (len(probList) == 1) :\n",
    "        return 0\n",
    "    # On retourne l'entropie\n",
    "    return sum([- probList[i] * math.log(probList[i], len(probList)) for i in range(len(probList)) if probList[i] != 0.0])"
   ]
  },
  {
   "cell_type": "code",
   "execution_count": 48,
   "metadata": {},
   "outputs": [
    {
     "name": "stdout",
     "output_type": "stream",
     "text": [
      "P=[1] :  0\n",
      "P=[1,0] :  0.0\n",
      "P=[0.25, 0.25, 0.25, 0.25] :  1.0\n",
      "P=[0.7, 0.1, 0.2, 0.0] :  0.5783898247235197\n",
      "P=[1.0/3, 2.0/3] :  0.9182958340544896\n"
     ]
    }
   ],
   "source": [
    "# Exemples d'utilisation:\n",
    "print(\"P=[1] : \", shannon([1]))\n",
    "print(\"P=[1,0] : \", shannon([1, 0]))\n",
    "print(\"P=[0.25, 0.25, 0.25, 0.25] : \", shannon([0.25, 0.25, 0.25, 0.25]))\n",
    "print(\"P=[0.7, 0.1, 0.2, 0.0] : \", shannon([0.7, 0.1, 0.2, 0.0]))\n",
    "print(\"P=[1.0/3, 2.0/3] : \", shannon([1.0/3, 2.0/3]))"
   ]
  },
  {
   "cell_type": "markdown",
   "metadata": {},
   "source": [
    "<font color=\"RED\" size=\"+1\">**[Q]**</font> Tracer, à l'aide de la fonction plot, la courbe donnant la valeur de <code>shannon([p, 1-p])</code> en fonction de <code>p</code>."
   ]
  },
  {
   "cell_type": "code",
   "execution_count": 59,
   "metadata": {},
   "outputs": [
    {
     "data": {
      "image/png": "[encoded data removed]",
      "text/plain": [
       "<Figure size 432x288 with 1 Axes>"
      ]
     },
     "metadata": {
      "needs_background": "light"
     },
     "output_type": "display_data"
    }
   ],
   "source": [
    "# Affichage des valeurs de Shannon ([p, 1 - p])\n",
    "x = np.arange(0, 1, 0.0001)\n",
    "y = [shannon([i, 1 - i]) for i in x]\n",
    "plt.figure()\n",
    "plt.plot(x, y)\n",
    "plt.show()"
   ]
  },
  {
   "cell_type": "markdown",
   "metadata": {},
   "source": [
    "Afin de réaliser des premiers essais, on charge une base jouet qui donne, pour un ensemble de personnes décrites par 3 atttributs (adresse, nationalité et le fait d'être majeur ou pas) dit si la personne peut voter (+1) ou non (-1) aux élections européennes.\n"
   ]
  },
  {
   "cell_type": "code",
   "execution_count": 61,
   "metadata": {},
   "outputs": [
    {
     "data": {
      "text/html": [
       "<div>\n",
       "<style scoped>\n",
       "    .dataframe tbody tr th:only-of-type {\n",
       "        vertical-align: middle;\n",
       "    }\n",
       "\n",
       "    .dataframe tbody tr th {\n",
       "        vertical-align: top;\n",
       "    }\n",
       "\n",
       "    .dataframe thead th {\n",
       "        text-align: right;\n",
       "    }\n",
       "</style>\n",
       "<table border=\"1\" class=\"dataframe\">\n",
       "  <thead>\n",
       "    <tr style=\"text-align: right;\">\n",
       "      <th></th>\n",
       "      <th>Adresse</th>\n",
       "      <th>Majeur?</th>\n",
       "      <th>Nationalite</th>\n",
       "      <th>Label</th>\n",
       "    </tr>\n",
       "  </thead>\n",
       "  <tbody>\n",
       "    <tr>\n",
       "      <th>0</th>\n",
       "      <td>Paris</td>\n",
       "      <td>oui</td>\n",
       "      <td>Francais</td>\n",
       "      <td>1</td>\n",
       "    </tr>\n",
       "    <tr>\n",
       "      <th>1</th>\n",
       "      <td>Paris</td>\n",
       "      <td>non</td>\n",
       "      <td>Francais</td>\n",
       "      <td>-1</td>\n",
       "    </tr>\n",
       "    <tr>\n",
       "      <th>2</th>\n",
       "      <td>Montpellier</td>\n",
       "      <td>oui</td>\n",
       "      <td>Italien</td>\n",
       "      <td>1</td>\n",
       "    </tr>\n",
       "    <tr>\n",
       "      <th>3</th>\n",
       "      <td>Paris</td>\n",
       "      <td>oui</td>\n",
       "      <td>Suisse</td>\n",
       "      <td>-1</td>\n",
       "    </tr>\n",
       "    <tr>\n",
       "      <th>4</th>\n",
       "      <td>Strasbourg</td>\n",
       "      <td>non</td>\n",
       "      <td>Italien</td>\n",
       "      <td>-1</td>\n",
       "    </tr>\n",
       "    <tr>\n",
       "      <th>5</th>\n",
       "      <td>Strasbourg</td>\n",
       "      <td>non</td>\n",
       "      <td>Francais</td>\n",
       "      <td>-1</td>\n",
       "    </tr>\n",
       "    <tr>\n",
       "      <th>6</th>\n",
       "      <td>Strasbourg</td>\n",
       "      <td>oui</td>\n",
       "      <td>Francais</td>\n",
       "      <td>1</td>\n",
       "    </tr>\n",
       "    <tr>\n",
       "      <th>7</th>\n",
       "      <td>Montpellier</td>\n",
       "      <td>oui</td>\n",
       "      <td>Suisse</td>\n",
       "      <td>-1</td>\n",
       "    </tr>\n",
       "  </tbody>\n",
       "</table>\n",
       "</div>"
      ],
      "text/plain": [
       "       Adresse Majeur? Nationalite  Label\n",
       "0        Paris     oui    Francais      1\n",
       "1        Paris     non    Francais     -1\n",
       "2  Montpellier     oui     Italien      1\n",
       "3        Paris     oui      Suisse     -1\n",
       "4   Strasbourg     non     Italien     -1\n",
       "5   Strasbourg     non    Francais     -1\n",
       "6   Strasbourg     oui    Francais      1\n",
       "7  Montpellier     oui      Suisse     -1"
      ]
     },
     "execution_count": 61,
     "metadata": {},
     "output_type": "execute_result"
    }
   ],
   "source": [
    "# Chargement des fichiers de données :\n",
    "\n",
    "elections_df = pd.read_csv(\"data/elections.csv\")\n",
    "elections_df\n",
    "\n",
    "# remarque: La classe est le Label"
   ]
  },
  {
   "cell_type": "code",
   "execution_count": 62,
   "metadata": {},
   "outputs": [
    {
     "data": {
      "text/plain": [
       "['Adresse', 'Majeur?', 'Nationalite']"
      ]
     },
     "execution_count": 62,
     "metadata": {},
     "output_type": "execute_result"
    }
   ],
   "source": [
    "# Pour ne garder que le nom des variables de description (et pas la classe):\n",
    "# sous la forme d'une liste:\n",
    "\n",
    "elections_noms = [nom for nom in elections_df.columns if nom != 'Label']\n",
    "elections_noms"
   ]
  },
  {
   "cell_type": "code",
   "execution_count": 63,
   "metadata": {},
   "outputs": [
    {
     "data": {
      "text/html": [
       "<div>\n",
       "<style scoped>\n",
       "    .dataframe tbody tr th:only-of-type {\n",
       "        vertical-align: middle;\n",
       "    }\n",
       "\n",
       "    .dataframe tbody tr th {\n",
       "        vertical-align: top;\n",
       "    }\n",
       "\n",
       "    .dataframe thead th {\n",
       "        text-align: right;\n",
       "    }\n",
       "</style>\n",
       "<table border=\"1\" class=\"dataframe\">\n",
       "  <thead>\n",
       "    <tr style=\"text-align: right;\">\n",
       "      <th></th>\n",
       "      <th>Adresse</th>\n",
       "      <th>Majeur?</th>\n",
       "      <th>Nationalite</th>\n",
       "      <th>Label</th>\n",
       "    </tr>\n",
       "  </thead>\n",
       "  <tbody>\n",
       "    <tr>\n",
       "      <th>0</th>\n",
       "      <td>Paris</td>\n",
       "      <td>oui</td>\n",
       "      <td>Francais</td>\n",
       "      <td>1</td>\n",
       "    </tr>\n",
       "    <tr>\n",
       "      <th>1</th>\n",
       "      <td>Paris</td>\n",
       "      <td>non</td>\n",
       "      <td>Francais</td>\n",
       "      <td>-1</td>\n",
       "    </tr>\n",
       "    <tr>\n",
       "      <th>3</th>\n",
       "      <td>Paris</td>\n",
       "      <td>oui</td>\n",
       "      <td>Suisse</td>\n",
       "      <td>-1</td>\n",
       "    </tr>\n",
       "  </tbody>\n",
       "</table>\n",
       "</div>"
      ],
      "text/plain": [
       "  Adresse Majeur? Nationalite  Label\n",
       "0   Paris     oui    Francais      1\n",
       "1   Paris     non    Francais     -1\n",
       "3   Paris     oui      Suisse     -1"
      ]
     },
     "execution_count": 63,
     "metadata": {},
     "output_type": "execute_result"
    }
   ],
   "source": [
    "# Sélection de valeurs:\n",
    "elections_df[elections_df['Adresse']=='Paris']"
   ]
  },
  {
   "cell_type": "markdown",
   "metadata": {},
   "source": [
    "<font color=\"RED\" size=\"+1\">**[Q]**</font> Donner les instructions permettant de calculer l'entropie de cette base relativement à la colonne `Label`.\n",
    "\n",
    "**Remarque :** on pourra utiliser la fonction numpy `unique` qui permet d'obtenir les valeurs ainsi que leur décompte (cf. la documentation en ligne)."
   ]
  },
  {
   "cell_type": "code",
   "execution_count": 67,
   "metadata": {},
   "outputs": [],
   "source": [
    "# Méthode permettant de calculer l'entropie d'une liste de labels\n",
    "def entropie(label) :\n",
    "    # On compte les probabilités d'apparition dans le vecteur avec un Counter\n",
    "    count = Counter(label)\n",
    "    prob = {key : (nb / len(label)) for key, nb in count.items()}\n",
    "\n",
    "    # On retourne l'entropie\n",
    "    return sum([- prob[i] * math.log(prob[i]) for i in prob])\n",
    "\n",
    "# Méthode permettant de calculer le gain d'information (entropie conditionnelle)\n",
    "def gainInfo(X, Y) :\n",
    "    pass"
   ]
  },
  {
   "cell_type": "code",
   "execution_count": 68,
   "metadata": {
    "scrolled": true
   },
   "outputs": [
    {
     "data": {
      "text/html": [
       "<div>\n",
       "<style scoped>\n",
       "    .dataframe tbody tr th:only-of-type {\n",
       "        vertical-align: middle;\n",
       "    }\n",
       "\n",
       "    .dataframe tbody tr th {\n",
       "        vertical-align: top;\n",
       "    }\n",
       "\n",
       "    .dataframe thead th {\n",
       "        text-align: right;\n",
       "    }\n",
       "</style>\n",
       "<table border=\"1\" class=\"dataframe\">\n",
       "  <thead>\n",
       "    <tr style=\"text-align: right;\">\n",
       "      <th></th>\n",
       "      <th>Adresse</th>\n",
       "      <th>Majeur?</th>\n",
       "      <th>Nationalite</th>\n",
       "      <th>Label</th>\n",
       "    </tr>\n",
       "  </thead>\n",
       "  <tbody>\n",
       "    <tr>\n",
       "      <th>0</th>\n",
       "      <td>Paris</td>\n",
       "      <td>oui</td>\n",
       "      <td>Francais</td>\n",
       "      <td>1</td>\n",
       "    </tr>\n",
       "    <tr>\n",
       "      <th>1</th>\n",
       "      <td>Paris</td>\n",
       "      <td>non</td>\n",
       "      <td>Francais</td>\n",
       "      <td>-1</td>\n",
       "    </tr>\n",
       "    <tr>\n",
       "      <th>3</th>\n",
       "      <td>Paris</td>\n",
       "      <td>oui</td>\n",
       "      <td>Suisse</td>\n",
       "      <td>-1</td>\n",
       "    </tr>\n",
       "  </tbody>\n",
       "</table>\n",
       "</div>"
      ],
      "text/plain": [
       "  Adresse Majeur? Nationalite  Label\n",
       "0   Paris     oui    Francais      1\n",
       "1   Paris     non    Francais     -1\n",
       "3   Paris     oui      Suisse     -1"
      ]
     },
     "execution_count": 68,
     "metadata": {},
     "output_type": "execute_result"
    }
   ],
   "source": [
    "elections_df[elections_df['Adresse']=='Paris']"
   ]
  },
  {
   "cell_type": "markdown",
   "metadata": {},
   "source": [
    "<font color=\"RED\" size=\"+1\">**[Q]**</font> Donner les instructions permettant de calculer le gain d'information obtenu en considérant individuellement chacun des 3 attributs de description."
   ]
  },
  {
   "cell_type": "code",
   "execution_count": 74,
   "metadata": {},
   "outputs": [
    {
     "name": "stdout",
     "output_type": "stream",
     "text": [
      "Adresse -> 1.0821955300387671\n",
      "Majeur? -> 0.6615632381579821\n",
      "Nationalite -> 1.0397207708399179\n"
     ]
    }
   ],
   "source": [
    "# On calcule le gain d'information de chaque classe\n",
    "for c in elections_noms :\n",
    "    labels = list(elections_df[c])\n",
    "    print(c, \"->\", entropie(labels))"
   ]
  },
  {
   "cell_type": "markdown",
   "metadata": {},
   "source": [
    "<font color=\"RED\" size=\"+1\">**[Q]**</font> Quel est l'attribut le plus intéressant pour prédire la classe ?"
   ]
  },
  {
   "cell_type": "code",
   "execution_count": 81,
   "metadata": {},
   "outputs": [
    {
     "name": "stdout",
     "output_type": "stream",
     "text": [
      "Attribut le plus intéressant pour prédire la classe : Adresse\n"
     ]
    }
   ],
   "source": [
    "# On cherche la classe maimisant le gain\n",
    "labelList = []\n",
    "gainList = []\n",
    "for c in elections_noms :\n",
    "    label = list(elections_df[c])\n",
    "    labelList.append(c)\n",
    "    gain = entropie(label)\n",
    "    gainList.append(gain)\n",
    "\n",
    "ind = gainList.index(max(gainList))\n",
    "print(\"Attribut le plus intéressant pour prédire la classe :\", labelList[ind])"
   ]
  },
  {
   "cell_type": "markdown",
   "metadata": {},
   "source": [
    "## Utilisation de scikit-learn\n",
    "\n",
    "La librairie Python scikit-learn fournit tout un ensemble de fonctions pour utiliser des algorithmes d'apprentissage, dont beaucoup sont fournis implémentés.\n",
    "Dans le cadre de ce TME, nous allons utiliser l'implémentation de l'algorithme de construction d'arbres de décision qui est fournie dans cette librairie.\n",
    "\n",
    "Tout au long de cette séance, vous pouvez vous référer à la documentation disponible ici:\n",
    "- http://scikit-learn.org/stable/index.html"
   ]
  },
  {
   "cell_type": "markdown",
   "metadata": {},
   "source": [
    "**Remarque**: éventuellement, en cas d'erreur avec l'exécution de la boîte suivante, il vous faudra sans doute mettre à jour votre version de scikit-learn.\n",
    "Dans un terminal:\n",
    "    - lancer la commande\n",
    "\n",
    "        pip install -U --user scikit-learn\n",
    "\n",
    "    - revenir sur ipython notebook, relancer le Kernel et réexécuter les boîtes.\n",
    "    \n",
    "Il se peut que vous ayez aussi à faire une mise à jour de pydot:\n",
    "\n",
    "        pip install -U --user pydot\n",
    "\n"
   ]
  },
  {
   "cell_type": "markdown",
   "metadata": {},
   "source": [
    "### Chargement d'une base d'apprentissage prédéfinie\n",
    "\n",
    "Scikit-learn est fournie avec quelques bases d'apprentissage classiques comme, par exemple, la base des Iris de Fischer."
   ]
  },
  {
   "cell_type": "markdown",
   "metadata": {},
   "source": [
    "Exécuter les 2 commandes suivantes permettant de charger la base des Iris dans la session:"
   ]
  },
  {
   "cell_type": "code",
   "execution_count": 82,
   "metadata": {},
   "outputs": [],
   "source": [
    "from sklearn.datasets import load_iris\n",
    "base_iris = load_iris()"
   ]
  },
  {
   "cell_type": "markdown",
   "metadata": {},
   "source": [
    "En vous aidant de la documentation de l'API: \n",
    "- http://scikit-learn.org/stable/datasets/index.html#datasets\n",
    "\n",
    "<font color=\"RED\" size=\"+1\">**[Q]**</font> Donnez dans les boîtes suivantes les commandes "
   ]
  },
  {
   "cell_type": "markdown",
   "metadata": {},
   "source": [
    "- pour afficher le nom des attributs de description:"
   ]
  },
  {
   "cell_type": "code",
   "execution_count": 88,
   "metadata": {},
   "outputs": [
    {
     "data": {
      "text/plain": [
       "['sepal length (cm)',\n",
       " 'sepal width (cm)',\n",
       " 'petal length (cm)',\n",
       " 'petal width (cm)']"
      ]
     },
     "execution_count": 88,
     "metadata": {},
     "output_type": "execute_result"
    }
   ],
   "source": [
    "base_iris.feature_names"
   ]
  },
  {
   "cell_type": "markdown",
   "metadata": {},
   "source": [
    "- pour afficher les descriptions de l'ensemble des exemples de la base:"
   ]
  },
  {
   "cell_type": "code",
   "execution_count": 93,
   "metadata": {},
   "outputs": [
    {
     "data": {
      "text/plain": [
       "'.. _iris_dataset:\\n\\nIris plants dataset\\n--------------------\\n\\n**Data Set Characteristics:**\\n\\n    :Number of Instances: 150 (50 in each of three classes)\\n    :Number of Attributes: 4 numeric, predictive attributes and the class\\n    :Attribute Information:\\n        - sepal length in cm\\n        - sepal width in cm\\n        - petal length in cm\\n        - petal width in cm\\n        - class:\\n                - Iris-Setosa\\n                - Iris-Versicolour\\n                - Iris-Virginica\\n                \\n    :Summary Statistics:\\n\\n    ============== ==== ==== ======= ===== ====================\\n                    Min  Max   Mean    SD   Class Correlation\\n    ============== ==== ==== ======= ===== ====================\\n    sepal length:   4.3  7.9   5.84   0.83    0.7826\\n    sepal width:    2.0  4.4   3.05   0.43   -0.4194\\n    petal length:   1.0  6.9   3.76   1.76    0.9490  (high!)\\n    petal width:    0.1  2.5   1.20   0.76    0.9565  (high!)\\n    ============== ==== ==== ======= ===== ====================\\n\\n    :Missing Attribute Values: None\\n    :Class Distribution: 33.3% for each of 3 classes.\\n    :Creator: R.A. Fisher\\n    :Donor: Michael Marshall (MARSHALL%PLU@io.arc.nasa.gov)\\n    :Date: July, 1988\\n\\nThe famous Iris database, first used by Sir R.A. Fisher. The dataset is taken\\nfrom Fisher\\'s paper. Note that it\\'s the same as in R, but not as in the UCI\\nMachine Learning Repository, which has two wrong data points.\\n\\nThis is perhaps the best known database to be found in the\\npattern recognition literature.  Fisher\\'s paper is a classic in the field and\\nis referenced frequently to this day.  (See Duda & Hart, for example.)  The\\ndata set contains 3 classes of 50 instances each, where each class refers to a\\ntype of iris plant.  One class is linearly separable from the other 2; the\\nlatter are NOT linearly separable from each other.\\n\\n.. topic:: References\\n\\n   - Fisher, R.A. \"The use of multiple measurements in taxonomic problems\"\\n     Annual Eugenics, 7, Part II, 179-188 (1936); also in \"Contributions to\\n     Mathematical Statistics\" (John Wiley, NY, 1950).\\n   - Duda, R.O., & Hart, P.E. (1973) Pattern Classification and Scene Analysis.\\n     (Q327.D83) John Wiley & Sons.  ISBN 0-471-22361-1.  See page 218.\\n   - Dasarathy, B.V. (1980) \"Nosing Around the Neighborhood: A New System\\n     Structure and Classification Rule for Recognition in Partially Exposed\\n     Environments\".  IEEE Transactions on Pattern Analysis and Machine\\n     Intelligence, Vol. PAMI-2, No. 1, 67-71.\\n   - Gates, G.W. (1972) \"The Reduced Nearest Neighbor Rule\".  IEEE Transactions\\n     on Information Theory, May 1972, 431-433.\\n   - See also: 1988 MLC Proceedings, 54-64.  Cheeseman et al\"s AUTOCLASS II\\n     conceptual clustering system finds 3 classes in the data.\\n   - Many, many more ...'"
      ]
     },
     "execution_count": 93,
     "metadata": {},
     "output_type": "execute_result"
    }
   ],
   "source": [
    "base_iris.DESCR"
   ]
  },
  {
   "cell_type": "markdown",
   "metadata": {},
   "source": [
    "- pour afficher les noms des classes:"
   ]
  },
  {
   "cell_type": "code",
   "execution_count": 90,
   "metadata": {},
   "outputs": [
    {
     "data": {
      "text/plain": [
       "array(['setosa', 'versicolor', 'virginica'], dtype='<U10')"
      ]
     },
     "execution_count": 90,
     "metadata": {},
     "output_type": "execute_result"
    }
   ],
   "source": [
    "base_iris.target_names"
   ]
  },
  {
   "cell_type": "markdown",
   "metadata": {},
   "source": [
    "- pour afficher les valeurs des classes pour l'ensemble des exemples de la base:"
   ]
  },
  {
   "cell_type": "code",
   "execution_count": 99,
   "metadata": {},
   "outputs": [
    {
     "data": {
      "text/plain": [
       "array([0, 0, 0, 0, 0, 0, 0, 0, 0, 0, 0, 0, 0, 0, 0, 0, 0, 0, 0, 0, 0, 0,\n",
       "       0, 0, 0, 0, 0, 0, 0, 0, 0, 0, 0, 0, 0, 0, 0, 0, 0, 0, 0, 0, 0, 0,\n",
       "       0, 0, 0, 0, 0, 0, 1, 1, 1, 1, 1, 1, 1, 1, 1, 1, 1, 1, 1, 1, 1, 1,\n",
       "       1, 1, 1, 1, 1, 1, 1, 1, 1, 1, 1, 1, 1, 1, 1, 1, 1, 1, 1, 1, 1, 1,\n",
       "       1, 1, 1, 1, 1, 1, 1, 1, 1, 1, 1, 1, 2, 2, 2, 2, 2, 2, 2, 2, 2, 2,\n",
       "       2, 2, 2, 2, 2, 2, 2, 2, 2, 2, 2, 2, 2, 2, 2, 2, 2, 2, 2, 2, 2, 2,\n",
       "       2, 2, 2, 2, 2, 2, 2, 2, 2, 2, 2, 2, 2, 2, 2, 2, 2, 2])"
      ]
     },
     "execution_count": 99,
     "metadata": {},
     "output_type": "execute_result"
    }
   ],
   "source": [
    "base_iris.target"
   ]
  },
  {
   "cell_type": "markdown",
   "metadata": {},
   "source": [
    "<font color=\"RED\" size=\"+1\">**[Q]**</font> Donner une instruction Python permettant de savoir combien d'exemples contient la base."
   ]
  },
  {
   "cell_type": "code",
   "execution_count": 97,
   "metadata": {},
   "outputs": [
    {
     "data": {
      "text/plain": [
       "150"
      ]
     },
     "execution_count": 97,
     "metadata": {},
     "output_type": "execute_result"
    }
   ],
   "source": [
    "base_iris.data.shape[0]"
   ]
  },
  {
   "cell_type": "markdown",
   "metadata": {},
   "source": [
    "<font color=\"RED\" size=\"+1\">**[Q]**</font> Ecrire la fonction affiche_exemple() qui prend en argument une base d'exemples et un  entier $i$ et qui affiche *joliment* l'exemple d'indice $i$ de la base, sur le format donné en exemple ci-dessous.\n",
    "On fait l'hypothèse que l'indice est correct pour la base donnée."
   ]
  },
  {
   "cell_type": "code",
   "execution_count": 103,
   "metadata": {},
   "outputs": [],
   "source": [
    "# Fonction réalisant l'affichage des informations de l'exemple d'indice i de la base\n",
    "def affiche_exemple(base, i) :\n",
    "    # On récupère l'exemple et la classe\n",
    "    x = base.data[i]\n",
    "    y = base.target[i]\n",
    "    \n",
    "    # On affiche les informations\n",
    "    print(\"Exemple\", i, \":\")\n",
    "    for i in range(len(x)) :\n",
    "        print(\"\\t\", base.feature_names[i], \"\\t:\", x[i])\n",
    "    print(\"-> Classe\", base.target_names[y])"
   ]
  },
  {
   "cell_type": "code",
   "execution_count": 104,
   "metadata": {},
   "outputs": [
    {
     "name": "stdout",
     "output_type": "stream",
     "text": [
      "Exemple 0 :\n",
      "\t sepal length (cm) \t: 5.1\n",
      "\t sepal width (cm) \t: 3.5\n",
      "\t petal length (cm) \t: 1.4\n",
      "\t petal width (cm) \t: 0.2\n",
      "-> Classe setosa\n"
     ]
    }
   ],
   "source": [
    "affiche_exemple(base_iris,0)"
   ]
  },
  {
   "cell_type": "code",
   "execution_count": 105,
   "metadata": {},
   "outputs": [
    {
     "name": "stdout",
     "output_type": "stream",
     "text": [
      "Exemple 50 :\n",
      "\t sepal length (cm) \t: 7.0\n",
      "\t sepal width (cm) \t: 3.2\n",
      "\t petal length (cm) \t: 4.7\n",
      "\t petal width (cm) \t: 1.4\n",
      "-> Classe versicolor\n"
     ]
    }
   ],
   "source": [
    "affiche_exemple(base_iris,50)"
   ]
  },
  {
   "cell_type": "code",
   "execution_count": 106,
   "metadata": {},
   "outputs": [
    {
     "name": "stdout",
     "output_type": "stream",
     "text": [
      "Exemple 149 :\n",
      "\t sepal length (cm) \t: 5.9\n",
      "\t sepal width (cm) \t: 3.0\n",
      "\t petal length (cm) \t: 5.1\n",
      "\t petal width (cm) \t: 1.8\n",
      "-> Classe virginica\n"
     ]
    }
   ],
   "source": [
    "affiche_exemple(base_iris,149)"
   ]
  },
  {
   "cell_type": "markdown",
   "metadata": {},
   "source": [
    "### Constitution d'une base d'apprentissage et d'une base de test\n",
    "\n",
    "Pour mettre au point et vérifier l'efficacité de l'apprentissage du modèle, il est nécessaire de posséder deux ensembles disjoints d'exemples:\n",
    "- l'ensemble des exemples d'apprentissage servant à construire l'arbre de décision (la base d'apprentissage);\n",
    "- l'ensemble des exemples servant à tester l'arbre construit (la base de test).\n",
    "\n",
    "Dans ce qui suit, on construit une base d'apprentissage en prenant 90 exemples de la base des iris (on s'arrange pour que la distribution des classes soit respectée en prenant les premiers 30 exemples de chaque classe) pour la base d'apprentissage (nommée *app_data*, avec les classes correspondantes dans *app_target*) et 60 exemples pour la base de test (nommée *test_data*, avec les classes correspondantes *test_target*)."
   ]
  },
  {
   "cell_type": "code",
   "execution_count": 111,
   "metadata": {},
   "outputs": [
    {
     "name": "stdout",
     "output_type": "stream",
     "text": [
      "Base d'apprentissage :  90  descriptions et  90  labels\n",
      "Base de test :  60  descriptions et  60  labels\n"
     ]
    }
   ],
   "source": [
    "# On utilise ici le fait que dans la base chargée en mémoire: \n",
    "#     - les 50 premiers exemples (indices 0 à 49) sont de la classe 0\n",
    "#     - les 50 exemples suivants (indices 50 à 99) sont de la classe 1\n",
    "#     - les 50 exemples suivants (indices 100 à 150) sont de la classe 2\n",
    "\n",
    "# préparation: détermination des indices pour la séparation des données\n",
    "ind_app_1 = range(0,30)     # les 30 descriptions des premiers exemples de la base (classe 0)\n",
    "ind_tes_1 = range(30,50)    # les 20 descriptions des exemples restants de la classe 0 \n",
    "\n",
    "ind_app_2 = range(50,80)    # les 30 premiers exemples de la classe 1\n",
    "ind_tes_2 = range(80,100)   # les 20 exemples restants de la classe 1\n",
    "\n",
    "ind_app_3 = range(100,130)  # les 30 premiers exemples de la classe 2\n",
    "ind_tes_3 = range(130,150)  # les 20 exemples restants de la classe 2 \n",
    "\n",
    "# constitution de la base d'apprentissage\n",
    "#   1) on duplique les descriptions \n",
    "data_1= base_iris.data[ind_app_1].copy()\n",
    "data_2= base_iris.data[ind_app_2].copy()\n",
    "data_3= base_iris.data[ind_app_3].copy()\n",
    "app_data = np.concatenate((data_1,data_2,data_3), axis=0)\n",
    "\n",
    "#   2) on duplique identiquement les classes associées\n",
    "target_1= base_iris.target[ind_app_1].copy()\n",
    "target_2= base_iris.target[ind_app_2].copy()\n",
    "target_3= base_iris.target[ind_app_3].copy()\n",
    "app_target= np.concatenate((target_1,target_2,target_3), axis=0)\n",
    "\n",
    "# constitution de la base de test\n",
    "#   1) on duplique les descriptions \n",
    "data_4= base_iris.data[ind_tes_1].copy()\n",
    "data_5= base_iris.data[ind_tes_2].copy()\n",
    "data_6= base_iris.data[ind_tes_3].copy()\n",
    "test_data = np.concatenate((data_4, data_5, data_6), axis=0)\n",
    "\n",
    "#   2) on duplique identiquement les classes associées\n",
    "target_4= base_iris.target[ind_tes_1].copy()\n",
    "target_5= base_iris.target[ind_tes_2].copy()\n",
    "target_6= base_iris.target[ind_tes_3].copy()\n",
    "test_target= np.concatenate((target_4,target_5,target_6), axis=0)\n",
    "\n",
    "# tout est prêt: on a 4 variables: 2 pour la base d'apprentissage et 2 pour la base de test:\n",
    "print(\"Base d'apprentissage : \",len(app_data),\" descriptions et \", len(app_target),\" labels\")\n",
    "print(\"Base de test : \",len(test_data),\" descriptions et \", len(test_target),\" labels\")"
   ]
  },
  {
   "cell_type": "markdown",
   "metadata": {},
   "source": [
    "### Construction d'un arbre de décision\n",
    "\n",
    "La construction d'un arbre de décision s'effectue grâce à la fonction *DecisionTreeClassifier* de la librairie *tree* de scikit-learn.\n"
   ]
  },
  {
   "cell_type": "code",
   "execution_count": 113,
   "metadata": {},
   "outputs": [
    {
     "data": {
      "text/plain": [
       "DecisionTreeClassifier()"
      ]
     },
     "execution_count": 113,
     "metadata": {},
     "output_type": "execute_result"
    }
   ],
   "source": [
    "from sklearn import tree\n",
    "\n",
    "# déclaration / initialisation d'un arbre\n",
    "mon_arbre = tree.DecisionTreeClassifier()\n",
    "\n",
    "# construction de l'arbre avec la base des Iris prise totalement\n",
    "mon_arbre.fit(base_iris.data, base_iris.target)"
   ]
  },
  {
   "cell_type": "markdown",
   "metadata": {},
   "source": [
    "Cette dernière instruction renvoie une référence vers l'arbre construit. Elle fournit aussi une sortie permettant de voir les différents paramètres utilisés lors de la construction.\n",
    "\n",
    "Le paramètre qui nous intéresse ici est le paramètre \"criterion\" qui définit la mesure d'information utilisée pour construire l'arbre.\n",
    "\n",
    "Pour obtenir une construction basée sur l'entropie de Shannon, on utilise la syntaxe suivante qui précise le critère de sélection à utiliser."
   ]
  },
  {
   "cell_type": "code",
   "execution_count": 114,
   "metadata": {},
   "outputs": [
    {
     "data": {
      "text/plain": [
       "DecisionTreeClassifier(criterion='entropy')"
      ]
     },
     "execution_count": 114,
     "metadata": {},
     "output_type": "execute_result"
    }
   ],
   "source": [
    "# initialisation d'un arbre qui sera construit avec l'entropie de Shannon\n",
    "autre_arbre = tree.DecisionTreeClassifier(criterion='entropy')\n",
    "\n",
    "# construction de l'arbre avec la base d'apprentissage réduite au 90 premiers exemples:\n",
    "autre_arbre.fit(app_data, app_target)"
   ]
  },
  {
   "cell_type": "markdown",
   "metadata": {},
   "source": [
    "### Affichage de l'arbre de décision construit\n",
    "\n",
    "L'affichage s'effectue en 2 temps:\n",
    "- la génération de l'arbre au format *.dot* qui est sauvegardé dans un fichier sur le disque;\n",
    "- la transformation, à l'aide de la commande \"dot\" de linux du fichier *.dot* en fichier *.png*.\n"
   ]
  },
  {
   "cell_type": "code",
   "execution_count": 116,
   "metadata": {},
   "outputs": [
    {
     "data": {
      "image/png": "[encoded data removed]",
      "text/plain": [
       "<IPython.core.display.Image object>"
      ]
     },
     "execution_count": 116,
     "metadata": {},
     "output_type": "execute_result"
    }
   ],
   "source": [
    "import io\n",
    "import os\n",
    "import pydot\n",
    "from IPython.display import Image\n",
    "    \n",
    "# Nom à donner au fichier de sauvegarde:\n",
    "fichierOut= \"autre_arbre\"\n",
    "# Génération du fichier .dot représentant l'arbre:\n",
    "dot_file = tree.export_graphviz(autre_arbre, out_file=fichierOut+\".dot\", \\\n",
    "                     feature_names=base_iris.feature_names, \\\n",
    "                     class_names=base_iris.target_names, \\\n",
    "                     filled=True)\n",
    "\n",
    "# Transformation du fichier .dot en fichier .png:\n",
    "os.system(\"dot -T png \" + fichierOut+\".dot -o \" + fichierOut + \".png\")\n",
    "\n",
    "# à partir d'ici, vous devez avoir 2 nouveaux fichiers dans le répertoire courant\n",
    "\n",
    "# Pour afficher l'image obtenue dans la boite Out qui suit:\n",
    "Image(filename=fichierOut+'.png')"
   ]
  },
  {
   "cell_type": "markdown",
   "metadata": {},
   "source": [
    "<font color=\"RED\" size=\"+1\">**[Q]**</font> Examiner l'arbre obtenu et représenter, sur une feuille de brouillon, la frontière de décision vue sur les 2 dimensions \"petal width\" et \"petal length\". Dans chaque zone définie par cette frontière, indiquer la ou les classes correspondantes."
   ]
  },
  {
   "cell_type": "markdown",
   "metadata": {},
   "source": [
    "### Classification avec un arbre de décision\n",
    "\n",
    "La méthode predict() de la classe DecisionTreeClassifier() permet de réaliser la classification d'un ensemble de description (data) avec l'arbre construit.\n",
    "Ainsi, la commande suivante permet d'obtenir le résultat avec l'arbre précédent de la classification de tous les exemples de la base de test que l'on a construit plus haut."
   ]
  },
  {
   "cell_type": "code",
   "execution_count": 117,
   "metadata": {},
   "outputs": [
    {
     "data": {
      "text/plain": [
       "array([0, 0, 0, 0, 0, 0, 0, 0, 0, 0, 0, 0, 0, 0, 0, 0, 0, 0, 0, 0, 1, 1,\n",
       "       1, 2, 1, 1, 1, 1, 1, 1, 1, 1, 1, 1, 1, 1, 1, 1, 1, 1, 2, 2, 2, 2,\n",
       "       2, 2, 2, 2, 2, 2, 2, 2, 2, 2, 2, 2, 2, 2, 2, 2])"
      ]
     },
     "execution_count": 117,
     "metadata": {},
     "output_type": "execute_result"
    }
   ],
   "source": [
    "autre_arbre.predict(test_data)"
   ]
  },
  {
   "cell_type": "markdown",
   "metadata": {},
   "source": [
    "On rappelle que les vraies classes des exemples de test sont les suivantes:"
   ]
  },
  {
   "cell_type": "code",
   "execution_count": 118,
   "metadata": {},
   "outputs": [
    {
     "data": {
      "text/plain": [
       "array([0, 0, 0, 0, 0, 0, 0, 0, 0, 0, 0, 0, 0, 0, 0, 0, 0, 0, 0, 0, 1, 1,\n",
       "       1, 1, 1, 1, 1, 1, 1, 1, 1, 1, 1, 1, 1, 1, 1, 1, 1, 1, 2, 2, 2, 2,\n",
       "       2, 2, 2, 2, 2, 2, 2, 2, 2, 2, 2, 2, 2, 2, 2, 2])"
      ]
     },
     "execution_count": 118,
     "metadata": {},
     "output_type": "execute_result"
    }
   ],
   "source": [
    "test_target"
   ]
  },
  {
   "cell_type": "markdown",
   "metadata": {},
   "source": [
    "<font color=\"RED\" size=\"+1\">**[Q]**</font> Examiner l'arbre obtenu et représenter, sur une feuille de brouillon, la frontière de décision vue sur les 2 dimensions \"petal width\" et \"petal length\". Dans chaque zone définie par cette frontière, indiquer la ou les classes correspondantes. En comparant visuelle ces 2 résultats, combien trouvez-vous d'exemples sont mal classés par l'arbre?"
   ]
  },
  {
   "cell_type": "markdown",
   "metadata": {},
   "source": [
    "<font color=\"RED\" size=\"+1\">**[Q]**</font> Examiner l'arbre obtenu et représenter, sur une feuille de brouillon, la frontière de décision vue sur les 2 dimensions \"petal width\" et \"petal length\". Dans chaque zone définie par cette frontière, indiquer la ou les classes correspondantes. Ecrire la fonction taux_erreur() qui prend en argument deux tableaux (des \"array\" Python), l'un étant le tableau des classes originales et l'autre étant le tableau des classes fournies par le classifieur, et rend le taux d'erreur de la classification réalisée.\n",
    "\n",
    "Le taux d'erreur $t_{err}$ d'un classifieur $M$ se détermine comme suit:\n",
    "$$t_{err}(M)= \\frac{n_{err}(M)}{n_{T}}$$\n",
    "\n",
    "avec: \n",
    "- $n_{err}(M)$: nombre d'exemples de la base de test qui sont mal classés par $M$\n",
    "- $n_{T}$: nombre d'exemples total de la base de test"
   ]
  },
  {
   "cell_type": "code",
   "execution_count": 123,
   "metadata": {},
   "outputs": [],
   "source": [
    "# Fonction calculant le taux d'erreur d'un classifieur\n",
    "def taux_erreur(trueLabel, predictedLabel) :\n",
    "    return sum([0. if trueLabel[i] == predictedLabel[i] else 1. for i in range(len(trueLabel))]) / len(trueLabel)"
   ]
  },
  {
   "cell_type": "code",
   "execution_count": 124,
   "metadata": {},
   "outputs": [
    {
     "data": {
      "text/plain": [
       "0.016666666666666666"
      ]
     },
     "execution_count": 124,
     "metadata": {},
     "output_type": "execute_result"
    }
   ],
   "source": [
    "taux_erreur(test_target,autre_arbre.predict(test_data))"
   ]
  },
  {
   "cell_type": "markdown",
   "metadata": {},
   "source": [
    "### Choix aléatoire des exemples d'apprentissage\n",
    "\n",
    "Le taux d'erreur obtenu correspond à une base d'apprentissage construite en prenant les 30 premiers exemples de chaque classe. Pour être rigoureux, il faudrait réaliser l'expérience en prenant *aléatoirement* 30 exemples de chaque classe dans la base.\n",
    "\n",
    "La fonction shuffle() de la librairie Python random permet de mélanger aléatoirement les valeurs d'une liste donnée en argument.\n",
    "Par exemple, exécuter plusieurs fois les instructions de la boîte suivante:"
   ]
  },
  {
   "cell_type": "code",
   "execution_count": 125,
   "metadata": {},
   "outputs": [
    {
     "name": "stdout",
     "output_type": "stream",
     "text": [
      "La liste L avant le mélange:  [0, 1, 2, 3, 4, 5, 6, 7, 8, 9, 10]\n",
      "La liste L après le mélange:  [7, 3, 9, 5, 8, 4, 6, 10, 2, 1, 0]\n"
     ]
    }
   ],
   "source": [
    "import random\n",
    "L= [i for i in range(0,11)]             # construction de la liste des entiers de 0 à 10\n",
    "print(\"La liste L avant le mélange: \",L)\n",
    "random.shuffle(L)                       # mélange aléatoire\n",
    "print(\"La liste L après le mélange: \",L)"
   ]
  },
  {
   "cell_type": "markdown",
   "metadata": {
    "collapsed": true
   },
   "source": [
    "<font color=\"RED\" size=\"+1\">**[Q]**</font> Examiner l'arbre obtenu et représenter, sur une feuille de brouillon, la frontière de décision vue sur les 2 dimensions \"petal width\" et \"petal length\". Dans chaque zone définie par cette frontière, indiquer la ou les classes correspondantes. Ecrire une fonction split_aleatoire() qui prend en argument \n",
    "- 2 bases de type numpy.ndarray:\n",
    "    - une base de descriptions d'exemples (par exemple celle des Iris: base_iris.data), \n",
    "    - la base des classes correspondantes (par exemple, base_iris.target), \n",
    "- un entier donnant le nombre de classes différentes existantes (par exemple, 3) \n",
    "- et un entier (nTrain)\n",
    "\n",
    "et qui rend un quatruplet composé de 4 bases de type numpy.ndarray:\n",
    "- la base train_data construite en prenant les descriptions de nTrain exemples de chaque classe choisis aléatoirement\n",
    "- la base train_class correspondant à la base précédente: elle contient les classes des exemples correspondants\n",
    "- la base test_data construite en prenant les descriptions restantes de chaque classe\n",
    "- la base test_class correspondant à la base précédente.\n",
    "\n",
    "**Remarque**: si la base contient, au départ, $n$ exemples de la classe $C_1$, il est possible de procéder ainsi:\n",
    "- générer une liste des indices de $0$ à $n-1$;\n",
    "- mélanger aléatoirement ces indices;\n",
    "- retenir les nTrain premiers indices de la liste mélangée pour constituer l'ensemble train. Les indices non retenus sont utilisés pour construire test."
   ]
  },
  {
   "cell_type": "code",
   "execution_count": null,
   "metadata": {},
   "outputs": [],
   "source": [
    "# \n",
    "def split_aleatoire(data, target, nClass, nTrain) :\n",
    "    # Création et mélange de la liste d'index\n",
    "    indexList = [i for i in range(len(data))]\n",
    "    indexList = random.shuffle(indexList)\n",
    "\n",
    "    # On crée les ensembles train et test\n",
    "    "
   ]
  },
  {
   "cell_type": "code",
   "execution_count": 126,
   "metadata": {},
   "outputs": [
    {
     "name": "stdout",
     "output_type": "stream",
     "text": [
      "Base départ:  150  exemples\n"
     ]
    },
    {
     "ename": "NameError",
     "evalue": "name 'split_aleatoire' is not defined",
     "output_type": "error",
     "traceback": [
      "\u001b[0;31m---------------------------------------------------------------------------\u001b[0m",
      "\u001b[0;31mNameError\u001b[0m                                 Traceback (most recent call last)",
      "\u001b[0;32m/var/folders/ch/hpfc1rn52_b8zlz4r9mh7bth0000gn/T/ipykernel_45341/3410705469.py\u001b[0m in \u001b[0;36m<module>\u001b[0;34m\u001b[0m\n\u001b[1;32m      1\u001b[0m \u001b[0mprint\u001b[0m\u001b[0;34m(\u001b[0m\u001b[0;34m\"Base départ: \"\u001b[0m\u001b[0;34m,\u001b[0m \u001b[0mlen\u001b[0m\u001b[0;34m(\u001b[0m\u001b[0mbase_iris\u001b[0m\u001b[0;34m.\u001b[0m\u001b[0mdata\u001b[0m\u001b[0;34m)\u001b[0m\u001b[0;34m,\u001b[0m \u001b[0;34m\" exemples\"\u001b[0m\u001b[0;34m)\u001b[0m\u001b[0;34m\u001b[0m\u001b[0;34m\u001b[0m\u001b[0m\n\u001b[0;32m----> 2\u001b[0;31m \u001b[0mtrain_data\u001b[0m\u001b[0;34m,\u001b[0m \u001b[0mtrain_class\u001b[0m\u001b[0;34m,\u001b[0m \u001b[0mtest_data\u001b[0m\u001b[0;34m,\u001b[0m \u001b[0mtest_class\u001b[0m \u001b[0;34m=\u001b[0m \u001b[0msplit_aleatoire\u001b[0m\u001b[0;34m(\u001b[0m\u001b[0mbase_iris\u001b[0m\u001b[0;34m.\u001b[0m\u001b[0mdata\u001b[0m\u001b[0;34m,\u001b[0m\u001b[0mbase_iris\u001b[0m\u001b[0;34m.\u001b[0m\u001b[0mtarget\u001b[0m\u001b[0;34m,\u001b[0m\u001b[0;36m3\u001b[0m\u001b[0;34m,\u001b[0m \u001b[0;36m30\u001b[0m\u001b[0;34m)\u001b[0m\u001b[0;34m\u001b[0m\u001b[0;34m\u001b[0m\u001b[0m\n\u001b[0m\u001b[1;32m      3\u001b[0m \u001b[0mprint\u001b[0m\u001b[0;34m(\u001b[0m\u001b[0;34m\"Base train : \"\u001b[0m\u001b[0;34m,\u001b[0m\u001b[0mlen\u001b[0m\u001b[0;34m(\u001b[0m\u001b[0mtrain_data\u001b[0m\u001b[0;34m)\u001b[0m\u001b[0;34m,\u001b[0m\u001b[0;34m\" descriptions et \"\u001b[0m\u001b[0;34m,\u001b[0m \u001b[0mlen\u001b[0m\u001b[0;34m(\u001b[0m\u001b[0mtrain_class\u001b[0m\u001b[0;34m)\u001b[0m\u001b[0;34m,\u001b[0m\u001b[0;34m\" labels\"\u001b[0m\u001b[0;34m)\u001b[0m\u001b[0;34m\u001b[0m\u001b[0;34m\u001b[0m\u001b[0m\n\u001b[1;32m      4\u001b[0m \u001b[0mprint\u001b[0m\u001b[0;34m(\u001b[0m\u001b[0;34m\"Base test : \"\u001b[0m\u001b[0;34m,\u001b[0m\u001b[0mlen\u001b[0m\u001b[0;34m(\u001b[0m\u001b[0mtest_data\u001b[0m\u001b[0;34m)\u001b[0m\u001b[0;34m,\u001b[0m\u001b[0;34m\" descriptions et \"\u001b[0m\u001b[0;34m,\u001b[0m \u001b[0mlen\u001b[0m\u001b[0;34m(\u001b[0m\u001b[0mtest_class\u001b[0m\u001b[0;34m)\u001b[0m\u001b[0;34m,\u001b[0m\u001b[0;34m\" labels\"\u001b[0m\u001b[0;34m)\u001b[0m\u001b[0;34m\u001b[0m\u001b[0;34m\u001b[0m\u001b[0m\n",
      "\u001b[0;31mNameError\u001b[0m: name 'split_aleatoire' is not defined"
     ]
    }
   ],
   "source": [
    "print(\"Base départ: \", len(base_iris.data), \" exemples\")\n",
    "train_data, train_class, test_data, test_class = split_aleatoire(base_iris.data,base_iris.target,3, 30)\n",
    "print(\"Base train : \",len(train_data),\" descriptions et \", len(train_class),\" labels\")\n",
    "print(\"Base test : \",len(test_data),\" descriptions et \", len(test_class),\" labels\")"
   ]
  },
  {
   "cell_type": "markdown",
   "metadata": {},
   "source": [
    "<font color=\"RED\" size=\"+1\">**[Q]**</font> Examiner l'arbre obtenu et représenter, sur une feuille de brouillon, la frontière de décision vue sur les 2 dimensions \"petal width\" et \"petal length\". Dans chaque zone définie par cette frontière, indiquer la ou les classes correspondantes. En utilisant la fonction précédente, construire 10 arbres de décisions en prenant à chaque fois 90 exemples d'apprentissage choisis aléatoirement (donc avec 30 exemples de chaque classe) et fournir le taux d'erreur obtenu sur la base de test correspondante. Calculer la moyenne et l'écart type de ce taux d'erreur.\n",
    "\n",
    "\n",
    "**Remarque**: on pourra utiliser les fonctions de la librairie numpy: mean(L) et std(L) qui, pour une liste L de réels donnée, rend la valeur de la moyenne de la liste et son écart type. Par exemple:"
   ]
  },
  {
   "cell_type": "code",
   "execution_count": null,
   "metadata": {},
   "outputs": [
    {
     "name": "stdout",
     "output_type": "stream",
     "text": [
      "moyenne:  2.0  et écart type:  0.7905694150420949\n"
     ]
    }
   ],
   "source": [
    "L=[1.5, 1, 2.5, 3]\n",
    "print(\"moyenne: \",np.mean(L),\" et écart type: \", np.std(L))"
   ]
  },
  {
   "cell_type": "code",
   "execution_count": null,
   "metadata": {},
   "outputs": [
    {
     "name": "stdout",
     "output_type": "stream",
     "text": [
      "Construction de 10 arbres de décision avec 90 exemples pris aléatoirement:\n",
      "\tMoyenne du taux d'erreur:  0.04833333333333333 \n",
      "\tEcart type:  0.024094720491334935\n"
     ]
    }
   ],
   "source": []
  },
  {
   "cell_type": "markdown",
   "metadata": {},
   "source": [
    "### Variation du taux d'erreur\n",
    "\n",
    "On souhaite étudier l'influence de la taille de la base d'apprentissage sur le taux d'erreur, pour cela, on doit réaliser l'expérimentation suivante:\n",
    "- séparer la base d'exemples initiale en 2 sous-bases: une base d'apprentissage $BA$ et une base de test $BT$. La base de test sert à évaluer l'arbre de décision construit, et les exemples qu'elle contient ne doivent donc jamais être utilisés dans la phase d'apprentissage.\n",
    "- extraire à partir de la base d'apprentissage $BA$, plusieurs sous-bases d'apprentissage $BA_1$, $BA_2$,... contenant un nombre d'exemples différent. \n",
    "- construire un arbre de décision pour chaque base $BA_i$ et évaluer son taux d'erreur lors de la classification de $BT$.\n",
    "\n",
    "Il est alors possible, ensuite, de tracer la courbe des variations du taux d'erreur en fonction du nombre d'exemples dans la base d'apprentissage.\n",
    "\n"
   ]
  },
  {
   "cell_type": "markdown",
   "metadata": {},
   "source": [
    "<font color=\"RED\" size=\"+1\">**[Q]**</font> Examiner l'arbre obtenu et représenter, sur une feuille de brouillon, la frontière de décision vue sur les 2 dimensions \"petal width\" et \"petal length\". Dans chaque zone définie par cette frontière, indiquer la ou les classes correspondantes.\n",
    " Ecrire une fonction `plusieurs_taux_erreur()` qui prend en argument \n",
    "- 2 bases de type numpy.ndarray:\n",
    "    - une base de descriptions d'exemples (par exemple celle des Iris: base_iris.data), \n",
    "    - la base des classes correspondantes (par exemple, base_iris.target), \n",
    "- un entier donnant le nombre de classes différentes existantes (par exemple, 3) \n",
    "- un entier nTrain donnant le nombre d'exemples de chaque classe à utiliser pour l'apprentissage\n",
    "- une liste d'entiers $[n_1, n_2,..., n_k]$ donnant des nombre d'exemples de chaque classe à prendre pour construire un arbre de décision\n",
    "\n",
    "Après avoir séparé aléatoirement les 2 bases données en 2 parties (partie_train et partie_test (data et target correspondant)) en prenant nTrain exemples de chaque classe pour l'apprentissage, cette fonction rend la liste $t_1, t_2,..., t_k$ tels que le taux d'erreur $t_i$ est obtenu en construisant un arbre en prenant $n_i$ exemples de la partie_train et en l'évaluant sur la partie_test.\n",
    "\n"
   ]
  },
  {
   "cell_type": "code",
   "execution_count": null,
   "metadata": {},
   "outputs": [],
   "source": []
  },
  {
   "cell_type": "code",
   "execution_count": null,
   "metadata": {},
   "outputs": [
    {
     "data": {
      "text/plain": [
       "[0.2222222222222222,\n",
       " 0.06666666666666667,\n",
       " 0.044444444444444446,\n",
       " 0.13333333333333333,\n",
       " 0.06666666666666667,\n",
       " 0.06666666666666667,\n",
       " 0.06666666666666667,\n",
       " 0.06666666666666667,\n",
       " 0.044444444444444446]"
      ]
     },
     "execution_count": 37,
     "metadata": {},
     "output_type": "execute_result"
    }
   ],
   "source": [
    "Liste_nombres= [1, 3, 5, 7, 10, 15, 20, 25, 30]\n",
    "Liste_taux = plusieurs_taux_erreur(base_iris.data,base_iris.target,3,35, Liste_nombres)\n",
    "Liste_taux"
   ]
  },
  {
   "cell_type": "markdown",
   "metadata": {},
   "source": [
    "On peut ensuite tracer la courbe représentant ces variations du taux d'erreur:"
   ]
  },
  {
   "cell_type": "code",
   "execution_count": null,
   "metadata": {},
   "outputs": [
    {
     "data": {
      "text/plain": [
       "[<matplotlib.lines.Line2D at 0x7f4b690236d0>]"
      ]
     },
     "execution_count": 38,
     "metadata": {},
     "output_type": "execute_result"
    },
    {
     "data": {
      "image/png": "[encoded data removed]",
      "text/plain": [
       "<Figure size 432x288 with 1 Axes>"
      ]
     },
     "metadata": {
      "needs_background": "light"
     },
     "output_type": "display_data"
    }
   ],
   "source": [
    "plt.plot(Liste_nombres, Liste_taux)"
   ]
  },
  {
   "cell_type": "markdown",
   "metadata": {},
   "source": [
    "<font color=\"RED\" size=\"+1\">**[Q]**</font> Examiner l'arbre obtenu et représenter, sur une feuille de brouillon, la frontière de décision vue sur les 2 dimensions \"petal width\" et \"petal length\". Dans chaque zone définie par cette frontière, indiquer la ou les classes correspondantes. En utilisant la fonction précédente, tracer la courbe en réalisant 10 expérimentations et en prenant ensuite la moyenne des taux d'erreurs obtenu."
   ]
  },
  {
   "cell_type": "markdown",
   "metadata": {},
   "source": [
    "## D'autres bases"
   ]
  },
  {
   "cell_type": "markdown",
   "metadata": {
    "collapsed": true
   },
   "source": [
    "### La base \"Digits\"\n",
    "\n",
    "<font color=\"RED\" size=\"+1\">**[Q]**</font> Examiner l'arbre obtenu et représenter, sur une feuille de brouillon, la frontière de décision vue sur les 2 dimensions \"petal width\" et \"petal length\". Dans chaque zone définie par cette frontière, indiquer la ou les classes correspondantes. Réaliser la même suite d'expériences que celles réalisées avec la base des Iris, en prenant la base \"Digits\" fournie avec scikit learn.\n",
    "\n",
    "Cette base contient 1797 exemples associés à 10 classes. Ces exemples sont décrits avec 64 attributs.\n",
    "- contruire un arbre de décision en prenant nTrain=25 exemples de chaque classe. Afficher cet arbre.\n",
    "- tracer la courbe des taux d'erreur obtenue en faisant varier nTrain de 10 à 150 (par pas de 10)."
   ]
  },
  {
   "cell_type": "code",
   "execution_count": null,
   "metadata": {},
   "outputs": [
    {
     "name": "stdout",
     "output_type": "stream",
     "text": [
      "Descriptions de la base digits:\n",
      " [[ 0.  0.  5. ...  0.  0.  0.]\n",
      " [ 0.  0.  0. ... 10.  0.  0.]\n",
      " [ 0.  0.  0. ... 16.  9.  0.]\n",
      " ...\n",
      " [ 0.  0.  1. ...  6.  0.  0.]\n",
      " [ 0.  0.  2. ... 12.  0.  0.]\n",
      " [ 0.  0. 10. ... 12.  1.  0.]]\n",
      "Classes de la base digits: [0 1 2 3 4 5 6 7 8 9]\n",
      "Il y a en tout 1797 exemples\n"
     ]
    }
   ],
   "source": []
  },
  {
   "cell_type": "code",
   "execution_count": null,
   "metadata": {},
   "outputs": [],
   "source": []
  }
 ],
 "metadata": {
  "kernelspec": {
   "display_name": "Python 3",
   "language": "python",
   "name": "python3"
  },
  "language_info": {
   "codemirror_mode": {
    "name": "ipython",
    "version": 3
   },
   "file_extension": ".py",
   "mimetype": "text/x-python",
   "name": "python",
   "nbconvert_exporter": "python",
   "pygments_lexer": "ipython3",
   "version": "3.9.2"
  }
 },
 "nbformat": 4,
 "nbformat_minor": 1
}
